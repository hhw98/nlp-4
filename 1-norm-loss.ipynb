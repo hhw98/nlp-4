{
 "cells": [
  {
   "cell_type": "code",
   "execution_count": 19,
   "metadata": {},
   "outputs": [],
   "source": [
    "from sklearn.datasets import load_boston\n",
    "%matplotlib inline\n",
    "import matplotlib.pyplot as plt\n",
    "import numpy as np"
   ]
  },
  {
   "cell_type": "code",
   "execution_count": 20,
   "metadata": {},
   "outputs": [],
   "source": [
    "data = load_boston()\n",
    "X, y = data['data'], data['target']\n",
    "X_rm = X[:, 5]"
   ]
  },
  {
   "cell_type": "code",
   "execution_count": 21,
   "metadata": {},
   "outputs": [],
   "source": [
    "def draw_rm_and_price():\n",
    "    plt.scatter(X[:, 5], y)"
   ]
  },
  {
   "cell_type": "code",
   "execution_count": 22,
   "metadata": {},
   "outputs": [
    {
     "data": {
      "image/png": "[encoded data removed]",
      "text/plain": [
       "<Figure size 432x288 with 1 Axes>"
      ]
     },
     "metadata": {
      "needs_background": "light"
     },
     "output_type": "display_data"
    }
   ],
   "source": [
    "draw_rm_and_price()"
   ]
  },
  {
   "cell_type": "markdown",
   "metadata": {},
   "source": [
    "### loss"
   ]
  },
  {
   "cell_type": "markdown",
   "metadata": {},
   "source": [
    "$$ loss = \\frac{1}{n} \\sum|(y_i - (kx_i + b_i))| $$"
   ]
  },
  {
   "cell_type": "markdown",
   "metadata": {},
   "source": [
    " $$ \\frac{\\partial{loss}}{\\partial{k}} = -\\frac{1}{n}\\sum x_isign(y_i - (kx_i + b_i))$$"
   ]
  },
  {
   "cell_type": "markdown",
   "metadata": {},
   "source": [
    " $$ \\frac{\\partial{loss}}{\\partial{k}} = -\\frac{1}{n}\\sum x_isign(y_i - \\hat{y_i})$$"
   ]
  },
  {
   "cell_type": "markdown",
   "metadata": {},
   "source": [
    " $$ \\frac{\\partial{loss}}{\\partial{b}} = -\\frac{1}{n}\\sum sign(y_i - \\hat{y_i})$$"
   ]
  },
  {
   "cell_type": "code",
   "execution_count": 23,
   "metadata": {},
   "outputs": [],
   "source": [
    "def loss(y, y_hat): # to evaluate the performance \n",
    "    return sum(abs(y_i - y_hat_i) for y_i, y_hat_i in zip(list(y), list(y_hat))) / len(list(y))"
   ]
  },
  {
   "cell_type": "code",
   "execution_count": 24,
   "metadata": {},
   "outputs": [],
   "source": [
    "def partial_k(x,y,y_hat):\n",
    "    n = len(y)\n",
    "    return -1/n*sum(np.sign(y_i-y_hat_i)*x_i for x_i, y_i, y_hat_i in zip(list(x),list(y),list(y_hat)))"
   ]
  },
  {
   "cell_type": "code",
   "execution_count": 25,
   "metadata": {},
   "outputs": [],
   "source": [
    "def partial_b(x,y,y_hat):\n",
    "    n = len(y)\n",
    "    return -1/n*sum(np.sign(y_i-y_hat_i) for x_i, y_i, y_hat_i in zip(list(x),list(y),list(y_hat)))"
   ]
  },
  {
   "cell_type": "code",
   "execution_count": 26,
   "metadata": {},
   "outputs": [],
   "source": [
    "import random"
   ]
  },
  {
   "cell_type": "code",
   "execution_count": 27,
   "metadata": {},
   "outputs": [],
   "source": [
    "def price(rm, k, b):\n",
    "    \"\"\"f(x) = k * x + b\"\"\"\n",
    "    return k * rm + b  "
   ]
  },
  {
   "cell_type": "code",
   "execution_count": 33,
   "metadata": {},
   "outputs": [
    {
     "name": "stdout",
     "output_type": "stream",
     "text": [
      "When time is : 0, get best_k: -19.57332445821733 best_b: -62.20065464008051, and the loss is: 207.74464892909737\n",
      "When time is : 500, get best_k: 12.501487004233404 best_b: -55.89709732782721, and the loss is: 4.654411686170187\n",
      "When time is : 1000, get best_k: 12.302365265102775 best_b: -54.70855977842003, and the loss is: 4.625226161892499\n",
      "When time is : 1500, get best_k: 12.127068031901143 best_b: -53.610931319922024, and the loss is: 4.600523632043046\n"
     ]
    }
   ],
   "source": [
    "\n",
    "trying_times = 2000\n",
    "\n",
    "min_loss = float('inf')\n",
    "\n",
    "current_k = random.random() * 200 - 100   \n",
    "current_b = random.random() * 200 - 100      #初始化问题\n",
    "\n",
    "X, y = data['data'], data['target']\n",
    "\n",
    "\n",
    "learning_rate = 1e-01                        #optimizer\n",
    "\n",
    "\n",
    "\n",
    "for i in range(trying_times):\n",
    "    \n",
    "    price_by_k_and_b = [price(r, current_k, current_b) for r in X_rm]            #price 函数定义问题：减少过拟合，regulazation\n",
    "    current_loss = loss(y, price_by_k_and_b)                                     #loss定义问题\n",
    "    if current_loss < min_loss:\n",
    "        \n",
    "        min_loss = current_loss\n",
    "        if i % 500 == 0: \n",
    "            print('When time is : {}, get best_k: {} best_b: {}, and the loss is: {}'.format(i, current_k, current_b, min_loss))\n",
    "    \n",
    "    k_gradient = partial_k(X_rm, y , price_by_k_and_b)                          #pytorch 快速求导\n",
    "    b_gradient = partial_b(X_rm, y, price_by_k_and_b)\n",
    "    \n",
    "    current_k = current_k+(-k_gradient)*learning_rate\n",
    "    current_b = current_b+(-b_gradient)*learning_rate\n",
    "    \n"
   ]
  },
  {
   "cell_type": "code",
   "execution_count": 34,
   "metadata": {},
   "outputs": [
    {
     "data": {
      "text/plain": [
       "<matplotlib.collections.PathCollection at 0x261ac6f38d0>"
      ]
     },
     "execution_count": 34,
     "metadata": {},
     "output_type": "execute_result"
    },
    {
     "data": {
      "image/png": "[encoded data removed]",
      "text/plain": [
       "<Figure size 432x288 with 1 Axes>"
      ]
     },
     "metadata": {
      "needs_background": "light"
     },
     "output_type": "display_data"
    }
   ],
   "source": [
    "k = 12.127068031901143 \n",
    "b = -53.610931319922024\n",
    "price_by_gradient = [price(ii,k,b) for ii in X_rm]\n",
    "draw_rm_and_price()\n",
    "plt.scatter(X_rm,price_by_gradient)\n"
   ]
  },
  {
   "cell_type": "code",
   "execution_count": null,
   "metadata": {},
   "outputs": [],
   "source": []
  }
 ],
 "metadata": {
  "@webio": {
   "lastCommId": null,
   "lastKernelId": null
  },
  "kernelspec": {
   "display_name": "Python 3",
   "language": "python",
   "name": "python3"
  },
  "language_info": {
   "codemirror_mode": {
    "name": "ipython",
    "version": 3
   },
   "file_extension": ".py",
   "mimetype": "text/x-python",
   "name": "python",
   "nbconvert_exporter": "python",
   "pygments_lexer": "ipython3",
   "version": "3.6.8"
  }
 },
 "nbformat": 4,
 "nbformat_minor": 2
}
