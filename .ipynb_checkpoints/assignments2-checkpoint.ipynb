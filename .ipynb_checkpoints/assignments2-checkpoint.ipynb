{
 "cells": [
  {
   "cell_type": "code",
   "execution_count": 1,
   "metadata": {},
   "outputs": [],
   "source": [
    "import requests\n",
    "from bs4 import BeautifulSoup\n",
    "import re\n",
    "from collections import defaultdict"
   ]
  },
  {
   "cell_type": "code",
   "execution_count": 2,
   "metadata": {},
   "outputs": [],
   "source": [
    "s = requests.Session()\n",
    "s.headers['User-Agent'] = 'Mozilla/5.0 (Windows NT 10.0; Win64; x64) AppleWebKit/537.36 (KHTML, like Gecko) Chrome/73.0.3683.86 Safari/537.36'\n",
    "url = 'https://baike.baidu.com/item/%E5%8C%97%E4%BA%AC%E5%9C%B0%E9%93%81/408485'\n",
    "response = s.get(url)\n",
    "response.encoding = 'UTF-8'\n",
    "\n",
    "\n",
    "soup = BeautifulSoup(response.text, \"html.parser\")\n",
    "#soup = soup.prettify('UTF-8')\n",
    "#soup = soup.encode('UTF-8')\n",
    "\n"
   ]
  },
  {
   "cell_type": "code",
   "execution_count": 3,
   "metadata": {
    "scrolled": true
   },
   "outputs": [],
   "source": [
    "table = soup.find(\"table\", {\"log-set-param\": \"table_view\",\"data-sort\":\"sortDisabled\"})"
   ]
  },
  {
   "cell_type": "code",
   "execution_count": 4,
   "metadata": {},
   "outputs": [],
   "source": [
    "what_we_want = r' href=\"(/item/.*)\" target=\"_blank\">'\n",
    "pattern = re.compile(what_we_want)"
   ]
  },
  {
   "cell_type": "code",
   "execution_count": 5,
   "metadata": {},
   "outputs": [],
   "source": [
    "links = [ pattern.findall(str(ele.find('a')))[0] for ele in table if (pattern.findall(str(ele.find('a'))))]"
   ]
  },
  {
   "cell_type": "code",
   "execution_count": 6,
   "metadata": {},
   "outputs": [
    {
     "data": {
      "text/plain": [
       "23"
      ]
     },
     "execution_count": 6,
     "metadata": {},
     "output_type": "execute_result"
    }
   ],
   "source": [
    "len(links)"
   ]
  },
  {
   "cell_type": "code",
   "execution_count": 7,
   "metadata": {},
   "outputs": [],
   "source": [
    "links = list(set(links))"
   ]
  },
  {
   "cell_type": "code",
   "execution_count": 8,
   "metadata": {},
   "outputs": [],
   "source": [
    "what_we_want2 = r'\\>([\\u4e00-\\u9fff|0-9]+)\\<'\n",
    "pattern2 = re.compile(what_we_want2)\n",
    "names = [ pattern2.findall(str(ele.find('a')))[0] for ele in table if (pattern2.findall(str(ele.find('a'))))]"
   ]
  },
  {
   "cell_type": "code",
   "execution_count": 9,
   "metadata": {},
   "outputs": [
    {
     "data": {
      "text/plain": [
       "{'东直门站',\n",
       " '北京南站',\n",
       " '北京西站',\n",
       " '四惠站',\n",
       " '国家图书馆站',\n",
       " '天通苑北站',\n",
       " '安河桥北站',\n",
       " '宋家庄站',\n",
       " '巴沟站',\n",
       " '张郭庄站',\n",
       " '朱辛庄站',\n",
       " '清华东路西口站',\n",
       " '珠市口站',\n",
       " '积水潭站',\n",
       " '苹果园站',\n",
       " '西二旗站',\n",
       " '西直门站',\n",
       " '西苑站',\n",
       " '郭公庄站',\n",
       " '金安桥站',\n",
       " '阎村东站'}"
      ]
     },
     "execution_count": 9,
     "metadata": {},
     "output_type": "execute_result"
    }
   ],
   "source": [
    "set(names)"
   ]
  },
  {
   "cell_type": "code",
   "execution_count": 10,
   "metadata": {},
   "outputs": [
    {
     "data": {
      "text/plain": [
       "['/item/%E4%B8%9C%E7%9B%B4%E9%97%A8%E7%AB%99/4413864',\n",
       " '/item/%E9%87%91%E5%AE%89%E6%A1%A5%E7%AB%99/18521418',\n",
       " '/item/%E5%B7%B4%E6%B2%9F%E7%AB%99/4337043',\n",
       " '/item/%E6%9C%B1%E8%BE%9B%E5%BA%84%E7%AB%99/5399898',\n",
       " '/item/%E8%8B%B9%E6%9E%9C%E5%9B%AD%E7%AB%99/6486355',\n",
       " '/item/%E5%A4%A9%E9%80%9A%E8%8B%91%E5%8C%97%E7%AB%99/9253186',\n",
       " '/item/%E8%A5%BF%E8%8B%91%E7%AB%99/5573893',\n",
       " '/item/%E5%8C%97%E4%BA%AC%E5%8D%97%E7%AB%99/5908768',\n",
       " '/item/%E7%A7%AF%E6%B0%B4%E6%BD%AD%E7%AB%99/2610120',\n",
       " '/item/%E5%9B%9B%E6%83%A0%E7%AB%99/2686893',\n",
       " '/item/%E8%A5%BF%E4%BA%8C%E6%97%97%E7%AB%99/231127',\n",
       " '/item/%E9%83%AD%E5%85%AC%E5%BA%84%E7%AB%99/8586843',\n",
       " '/item/%E8%A5%BF%E7%9B%B4%E9%97%A8%E7%AB%99/2612279',\n",
       " '/item/%E9%98%8E%E6%9D%91%E4%B8%9C%E7%AB%99/21519767',\n",
       " '/item/%E6%B8%85%E5%8D%8E%E4%B8%9C%E8%B7%AF%E8%A5%BF%E5%8F%A3%E7%AB%99/16512744',\n",
       " '/item/%E5%9B%BD%E5%AE%B6%E5%9B%BE%E4%B9%A6%E9%A6%86%E7%AB%99/5575938',\n",
       " '/item/%E5%AE%8B%E5%AE%B6%E5%BA%84%E7%AB%99/75170',\n",
       " '/item/%E7%8F%A0%E5%B8%82%E5%8F%A3%E7%AB%99/16510844',\n",
       " '/item/%E5%AE%89%E6%B2%B3%E6%A1%A5%E5%8C%97%E7%AB%99/5419324',\n",
       " '/item/%E5%8C%97%E4%BA%AC%E8%A5%BF%E7%AB%99/17646705',\n",
       " '/item/%E5%BC%A0%E9%83%AD%E5%BA%84%E7%AB%99/5925643']"
      ]
     },
     "execution_count": 10,
     "metadata": {},
     "output_type": "execute_result"
    }
   ],
   "source": [
    "links"
   ]
  },
  {
   "cell_type": "code",
   "execution_count": 11,
   "metadata": {},
   "outputs": [
    {
     "data": {
      "text/plain": [
       "'\\ntable = soup.find(\"table\", {\"log-set-param\": \"table_view\",\"width\":\"NaN\",\"data-sort\":\"sortDisabled\"})\\n\\n[str(ele.find(\\'a\\')) for ele in table]\\n\\nwhat_we_want = r\\' href=\"(/item/.*)\" target=\"_blank\">\\'\\npattern = re.compile(what_we_want)\\nlinks = [ pattern.findall(str(ele.find(\\'a\\')))[0] for ele in table if (pattern.findall(str(ele.find(\\'a\\'))))]\\n\\nlen(links)\\n\\nwhat_we_want = r\\'[一-\\u9fff]+\\'\\npattern = re.compile(what_we_want)\\nChars = [ pattern.findall(str(ele.find(\\'a\\')))[0] for ele in table if (pattern.findall(str(ele.find(\\'a\\'))))]\\n\\n#Chars\\n\\nwhat_we_want = r\\' href=\"(/item/.*)\" target=\"_blank\">([一-\\u9fff]+)\\'\\npattern3 = re.compile(what_we_want)\\nstation_links = [ pattern3.findall(str(ele.find(\\'a\\')))[0] for ele in table if (pattern3.findall(str(ele.find(\\'a\\'))))]\\n\\n\\nlinks_stations = {station_links[i][1] : station_links[i][0] for i in range(len(station_links))}\\n\\nlinks_stations[\\'苹果园站\\']\\n'"
      ]
     },
     "execution_count": 11,
     "metadata": {},
     "output_type": "execute_result"
    }
   ],
   "source": [
    "#get station link no use\n",
    "\"\"\"\n",
    "table = soup.find(\"table\", {\"log-set-param\": \"table_view\",\"width\":\"NaN\",\"data-sort\":\"sortDisabled\"})\n",
    "\n",
    "[str(ele.find('a')) for ele in table]\n",
    "\n",
    "what_we_want = r' href=\"(/item/.*)\" target=\"_blank\">'\n",
    "pattern = re.compile(what_we_want)\n",
    "links = [ pattern.findall(str(ele.find('a')))[0] for ele in table if (pattern.findall(str(ele.find('a'))))]\n",
    "\n",
    "len(links)\n",
    "\n",
    "what_we_want = r'[\\u4e00-\\u9fff]+'\n",
    "pattern = re.compile(what_we_want)\n",
    "Chars = [ pattern.findall(str(ele.find('a')))[0] for ele in table if (pattern.findall(str(ele.find('a'))))]\n",
    "\n",
    "#Chars\n",
    "\n",
    "what_we_want = r' href=\"(/item/.*)\" target=\"_blank\">([\\u4e00-\\u9fff]+)'\n",
    "pattern3 = re.compile(what_we_want)\n",
    "station_links = [ pattern3.findall(str(ele.find('a')))[0] for ele in table if (pattern3.findall(str(ele.find('a'))))]\n",
    "\n",
    "\n",
    "links_stations = {station_links[i][1] : station_links[i][0] for i in range(len(station_links))}\n",
    "\n",
    "links_stations['苹果园站']\n",
    "\"\"\""
   ]
  },
  {
   "cell_type": "code",
   "execution_count": 13,
   "metadata": {},
   "outputs": [],
   "source": [
    "links1 = [\"/item/%E5%8C%97%E4%BA%AC%E5%9C%B0%E9%93%81%E4%BA%A6%E5%BA%84%E7%BA%BF/1464622\",\"/item/%E5%8C%97%E4%BA%AC%E5%9C%B0%E9%93%81%E7%87%95%E6%88%BF%E7%BA%BF\",\"/item/%E5%8C%97%E4%BA%AC%E5%9C%B0%E9%93%8113%E5%8F%B7%E7%BA%BF\",\"/item/%E5%8C%97%E4%BA%AC%E5%9C%B0%E9%93%81%E4%BA%A6%E5%BA%84%E7%BA%BF\",\"/item/%E5%8C%97%E4%BA%AC%E5%9C%B0%E9%93%81%E6%9C%BA%E5%9C%BA%E7%BA%BF\"]\n",
    "\n",
    "links2 = [\"/item/%E5%8C%97%E4%BA%AC%E5%9C%B0%E9%93%8116%E5%8F%B7%E7%BA%BF\",\"/item/%E5%8C%97%E4%BA%AC%E5%9C%B0%E9%93%81%E8%A5%BF%E9%83%8A%E7%BA%BF\",\"/item/%E5%8C%97%E4%BA%AC%E5%9C%B0%E9%93%81%E8%A5%BF%E9%83%8A%E7%BA%BF\"]\n",
    "\n",
    "links3 = [\"/item/%E5%8C%97%E4%BA%AC%E5%9C%B0%E9%93%81%E5%A4%A7%E5%85%B4%E7%BA%BF\",\"/item/%E5%8C%97%E4%BA%AC%E5%9C%B0%E9%93%814%E5%8F%B7%E7%BA%BF\",\"/item/%E5%8C%97%E4%BA%AC%E5%9C%B0%E9%93%811%E5%8F%B7%E7%BA%BF\", \"/item/%E5%8C%97%E4%BA%AC%E5%9C%B0%E9%93%81%E6%88%BF%E5%B1%B1%E7%BA%BF\"]\n",
    "\n"
   ]
  },
  {
   "cell_type": "code",
   "execution_count": 14,
   "metadata": {},
   "outputs": [],
   "source": [
    "links0 = list(set(links) - set(links1)-set(links2)-set(links3)-set([\"/item/%E5%8C%97%E4%BA%AC%E5%9C%B0%E9%93%81%E8%A5%BF%E9%83%8A%E7%BA%BF\",\"/item/%E5%A4%8D%E5%85%AB%E7%BA%BF\"]))"
   ]
  },
  {
   "cell_type": "code",
   "execution_count": 15,
   "metadata": {
    "scrolled": false
   },
   "outputs": [
    {
     "name": "stdout",
     "output_type": "stream",
     "text": [
      "东直门站\n",
      "finish:https://baike.baidu.com/item/%E4%B8%9C%E7%9B%B4%E9%97%A8%E7%AB%99/4413864\n",
      "金安桥站\n"
     ]
    },
    {
     "ename": "IndexError",
     "evalue": "list index out of range",
     "output_type": "error",
     "traceback": [
      "\u001b[1;31m---------------------------------------------------------------------------\u001b[0m",
      "\u001b[1;31mIndexError\u001b[0m                                Traceback (most recent call last)",
      "\u001b[1;32m<ipython-input-15-7d435711df27>\u001b[0m in \u001b[0;36m<module>\u001b[1;34m\u001b[0m\n\u001b[0;32m     39\u001b[0m     \u001b[1;32mfor\u001b[0m \u001b[0mi\u001b[0m \u001b[1;32min\u001b[0m \u001b[0mrange\u001b[0m\u001b[1;33m(\u001b[0m\u001b[0mlen\u001b[0m\u001b[1;33m(\u001b[0m\u001b[0mstation_names\u001b[0m\u001b[1;33m)\u001b[0m\u001b[1;33m)\u001b[0m\u001b[1;33m:\u001b[0m\u001b[1;33m\u001b[0m\u001b[1;33m\u001b[0m\u001b[0m\n\u001b[0;32m     40\u001b[0m         \u001b[0mstation\u001b[0m\u001b[1;33m[\u001b[0m\u001b[0mstation_names\u001b[0m\u001b[1;33m[\u001b[0m\u001b[0mi\u001b[0m\u001b[1;33m]\u001b[0m\u001b[1;33m]\u001b[0m\u001b[1;33m.\u001b[0m\u001b[0madd\u001b[0m\u001b[1;33m(\u001b[0m\u001b[0msoup\u001b[0m\u001b[1;33m.\u001b[0m\u001b[0mh1\u001b[0m\u001b[1;33m.\u001b[0m\u001b[0mstring\u001b[0m\u001b[1;33m)\u001b[0m\u001b[1;33m\u001b[0m\u001b[1;33m\u001b[0m\u001b[0m\n\u001b[1;32m---> 41\u001b[1;33m         \u001b[1;32mif\u001b[0m \u001b[0mi\u001b[0m \u001b[1;33m==\u001b[0m \u001b[1;36m0\u001b[0m\u001b[1;33m:\u001b[0m \u001b[0mstation_connection_info\u001b[0m\u001b[1;33m[\u001b[0m\u001b[0mstation_names\u001b[0m\u001b[1;33m[\u001b[0m\u001b[0mi\u001b[0m\u001b[1;33m]\u001b[0m\u001b[1;33m]\u001b[0m\u001b[1;33m+=\u001b[0m\u001b[1;33m[\u001b[0m\u001b[0mstation_names\u001b[0m\u001b[1;33m[\u001b[0m\u001b[0mi\u001b[0m\u001b[1;33m+\u001b[0m\u001b[1;36m1\u001b[0m\u001b[1;33m]\u001b[0m\u001b[1;33m]\u001b[0m\u001b[1;33m\u001b[0m\u001b[1;33m\u001b[0m\u001b[0m\n\u001b[0m\u001b[0;32m     42\u001b[0m \u001b[1;33m\u001b[0m\u001b[0m\n\u001b[0;32m     43\u001b[0m         \u001b[1;32melif\u001b[0m \u001b[0mi\u001b[0m \u001b[1;33m==\u001b[0m \u001b[0mlen\u001b[0m\u001b[1;33m(\u001b[0m\u001b[0mstation_names\u001b[0m\u001b[1;33m)\u001b[0m\u001b[1;33m-\u001b[0m\u001b[1;36m1\u001b[0m\u001b[1;33m:\u001b[0m\u001b[0mstation_connection_info\u001b[0m\u001b[1;33m[\u001b[0m\u001b[0mstation_names\u001b[0m\u001b[1;33m[\u001b[0m\u001b[0mi\u001b[0m\u001b[1;33m]\u001b[0m\u001b[1;33m]\u001b[0m \u001b[1;33m+=\u001b[0m \u001b[1;33m[\u001b[0m\u001b[0mstation_names\u001b[0m\u001b[1;33m[\u001b[0m\u001b[0mi\u001b[0m\u001b[1;33m-\u001b[0m\u001b[1;36m1\u001b[0m\u001b[1;33m]\u001b[0m\u001b[1;33m]\u001b[0m\u001b[1;33m\u001b[0m\u001b[1;33m\u001b[0m\u001b[0m\n",
      "\u001b[1;31mIndexError\u001b[0m: list index out of range"
     ]
    }
   ],
   "source": [
    "station_connection_info = defaultdict(list)\n",
    "station = defaultdict(set)\n",
    "for ele in links0:   \n",
    "    url_2 = 'https://baike.baidu.com'+ele\n",
    "    s = requests.Session()\n",
    "    s.headers['User-Agent'] = 'Mozilla/5.0 (Windows NT 10.0; Win64; x64) AppleWebKit/537.36 (KHTML, like Gecko) Chrome/73.0.3683.86 Safari/537.36'\n",
    "\n",
    "    response = s.get(url_2)\n",
    "    response.encoding = 'UTF-8'\n",
    "    soup = BeautifulSoup(response.text, \"html.parser\")\n",
    "    print(soup.h1.string)\n",
    "    table = soup.find_all(\"table\", {\"log-set-param\": \"table_view\",\"data-sort\":\"sortDisabled\"})\n",
    "    #print(table[1])\n",
    "    for ele in table:\n",
    "        if '车站列表' in str(ele):\n",
    "            table = ele\n",
    "            #print(str(ele))\n",
    "    #print([str(ele.find('td',{\"colspan\":\"1\",\"rowspan\":\"1\"})) for ele in table])\n",
    "    #print(url_2)\n",
    "    #for a in table:\n",
    "        #for ele in a:\n",
    "            #print(ele)\n",
    "            #print(\"hahahahaha\"+str(ele.find('a')))\n",
    "            #print('&&&&&&&&&&&&&&&&&&&&&&&&&&&&&&&&&&&&&&&&&&&&&&&&&')\n",
    "    #print([str(ele.find('a')) for ele in table])#width=\"110\" align=\"center\" valign=\"center\"\n",
    "    #except:\n",
    "        #print(url_2)\n",
    "        #continue\n",
    "\n",
    "    what_we_want = r'\\>([\\u4e00-\\u9fff|0-9]+)\\<'\n",
    "    pattern4 = re.compile(what_we_want)\n",
    "    #try:\n",
    "    station_names = [ pattern4.findall(str(ele.find('td')))[0] for ele in table if (pattern4.findall(str(ele.find('td'))))]\n",
    "    #print(station_names)\n",
    "    #except:\n",
    "    #    print(url_2)\n",
    "    #    continue\n",
    "\n",
    "    for i in range(len(station_names)):\n",
    "        station[station_names[i]].add(soup.h1.string)\n",
    "        if i == 0: station_connection_info[station_names[i]]+=[station_names[i+1]]\n",
    "\n",
    "        elif i == len(station_names)-1:station_connection_info[station_names[i]] += [station_names[i-1]]\n",
    "        else: station_connection_info[station_names[i]] += [station_names[i-1],station_names[i+1]]\n",
    "    print('finish:'+url_2)"
   ]
  },
  {
   "cell_type": "code",
   "execution_count": 1089,
   "metadata": {},
   "outputs": [],
   "source": [
    "#station_connection_info[\"劲松站\"]"
   ]
  },
  {
   "cell_type": "code",
   "execution_count": 16,
   "metadata": {},
   "outputs": [
    {
     "name": "stdout",
     "output_type": "stream",
     "text": [
      "<h1>北京地铁亦庄线</h1>\n",
      "finish:https://baike.baidu.com/item/%E5%8C%97%E4%BA%AC%E5%9C%B0%E9%93%81%E4%BA%A6%E5%BA%84%E7%BA%BF/1464622\n",
      "<h1>北京地铁燕房线</h1>\n",
      "finish:https://baike.baidu.com/item/%E5%8C%97%E4%BA%AC%E5%9C%B0%E9%93%81%E7%87%95%E6%88%BF%E7%BA%BF\n",
      "<h1>北京地铁13号线</h1>\n",
      "finish:https://baike.baidu.com/item/%E5%8C%97%E4%BA%AC%E5%9C%B0%E9%93%8113%E5%8F%B7%E7%BA%BF\n",
      "<h1>北京地铁亦庄线</h1>\n",
      "finish:https://baike.baidu.com/item/%E5%8C%97%E4%BA%AC%E5%9C%B0%E9%93%81%E4%BA%A6%E5%BA%84%E7%BA%BF\n",
      "<h1>北京地铁机场线</h1>\n",
      "finish:https://baike.baidu.com/item/%E5%8C%97%E4%BA%AC%E5%9C%B0%E9%93%81%E6%9C%BA%E5%9C%BA%E7%BA%BF\n"
     ]
    }
   ],
   "source": [
    "#station_connection_info = defaultdict(list)\n",
    "for ele in links1:\n",
    "    #ele = \"/item/%E5%8C%97%E4%BA%AC%E5%9C%B0%E9%93%81%E6%9C%BA%E5%9C%BA%E7%BA%BF\"  \n",
    "    url_2 = 'https://baike.baidu.com'+ele\n",
    "    s = requests.Session()\n",
    "    s.headers['User-Agent'] = 'Mozilla/5.0 (Windows NT 10.0; Win64; x64) AppleWebKit/537.36 (KHTML, like Gecko) Chrome/73.0.3683.86 Safari/537.36'\n",
    "\n",
    "    response = s.get(url_2)\n",
    "    response.encoding = 'UTF-8'\n",
    "    soup = BeautifulSoup(response.text, \"html.parser\")\n",
    "    print(soup.h1)\n",
    "    table = soup.find_all(\"table\", {\"log-set-param\": \"table_view\",\"data-sort\":\"sortDisabled\"})\n",
    "    #print(table[1])\n",
    "    for ele in table:\n",
    "        if '车站列表' in str(ele):\n",
    "            table = ele\n",
    "            #print(str(ele))\n",
    "    #print([str(ele.find('td',{\"colspan\":\"1\",\"rowspan\":\"1\"})) for ele in table])\n",
    "    #print(url_2)\n",
    "    #for a in table:\n",
    "        #for ele in a:\n",
    "            #print(ele)\n",
    "            #print(\"hahahahaha\"+str(ele.find('td')))\n",
    "            #print('&&&&&&&&&&&&&&&&&&&&&&&&&&&&&&&&&&&&&&&&&&&&&&&&&')\n",
    "    #print([str(ele.find('td')) for ele in table])#width=\"110\" align=\"center\" valign=\"center\"\n",
    "    #except:\n",
    "        #print(url_2)\n",
    "        #continue\n",
    "\n",
    "    what_we_want = r'\\>([\\u4e00-\\u9fff|0-9]+)\\<'\n",
    "    pattern4 = re.compile(what_we_want)\n",
    "    #try:\n",
    "    station_names = []\n",
    "    for a in table:\n",
    "        for ele in a:\n",
    "            if pattern4.findall(str(ele.find('td'))):\n",
    "                station_names+=(pattern4.findall(str(ele.find('td'))))\n",
    "    #station_names = [ pattern4.findall(str(ele.find('td')))[0] for ele in a for a in table if (pattern4.findall(str(ele.find('td'))))]\n",
    "    #print(station_names)\n",
    "    #except:\n",
    "    #    print(url_2)\n",
    "    #    continue\n",
    "\n",
    "    for i in range(len(station_names)):\n",
    "        station[station_names[i]].add(soup.h1.string)\n",
    "        if i == 0: station_connection_info[station_names[i]]+=[station_names[i+1]]\n",
    "        elif i == len(station_names)-1:station_connection_info[station_names[i]] += [station_names[i-1]]\n",
    "        else: station_connection_info[station_names[i]] += [station_names[i-1],station_names[i+1]]\n",
    "    print('finish:'+url_2)"
   ]
  },
  {
   "cell_type": "code",
   "execution_count": null,
   "metadata": {},
   "outputs": [],
   "source": [
    "#station_connection_info"
   ]
  },
  {
   "cell_type": "code",
   "execution_count": null,
   "metadata": {},
   "outputs": [],
   "source": []
  },
  {
   "cell_type": "code",
   "execution_count": null,
   "metadata": {},
   "outputs": [
    {
     "name": "stdout",
     "output_type": "stream",
     "text": [
      "北京地铁16号线\n",
      "finish:https://baike.baidu.com/item/%E5%8C%97%E4%BA%AC%E5%9C%B0%E9%93%8116%E5%8F%B7%E7%BA%BF\n"
     ]
    }
   ],
   "source": [
    "#station_connection_info = defaultdict(list)\n",
    "#for ele in links[:1]:\n",
    "for ele in links2: \n",
    "    url_2 = 'https://baike.baidu.com'+ele\n",
    "    s = requests.Session()\n",
    "    s.headers['User-Agent'] = 'Mozilla/5.0 (Windows NT 10.0; Win64; x64) AppleWebKit/537.36 (KHTML, like Gecko) Chrome/73.0.3683.86 Safari/537.36'\n",
    "\n",
    "    response = s.get(url_2)\n",
    "    response.encoding = 'UTF-8'\n",
    "    soup = BeautifulSoup(response.text, \"html.parser\")\n",
    "    print(soup.h1.string)\n",
    "    table = soup.find_all(\"table\", {\"log-set-param\": \"table_view\",\"data-sort\":\"sortDisabled\"})\n",
    "    #print(table[1])\n",
    "    for ele in table:\n",
    "        if '车站列表' in str(ele):\n",
    "            table = ele\n",
    "    #for a in table:\n",
    "        #for ele in a:\n",
    "            #print(ele)\n",
    "            #print(\"hahahahaha\"+str(ele.find('a')))\n",
    "            #print('&&&&&&&&&&&&&&&&&&&&&&&&&&&&&&&&&&&&&&&&&&&&&&&&&')\n",
    "\n",
    "    what_we_want = r'\\>([\\u4e00-\\u9fff|0-9]+)\\<'\n",
    "    pattern4 = re.compile(what_we_want)\n",
    "    #try:\n",
    "    station_names = []\n",
    "    for a in table:\n",
    "        for ele in a:\n",
    "            if pattern4.findall(str(ele.find('a'))):\n",
    "                station_names+=(pattern4.findall(str(ele.find('a'))))\n",
    "    #station_names = [ pattern4.findall(str(ele.find('td')))[0] for ele in a for a in table if (pattern4.findall(str(ele.find('td'))))]\n",
    "    #print(station_names)\n",
    "\n",
    "    for i in range(len(station_names)):\n",
    "        station[station_names[i]].add(soup.h1.string)\n",
    "        if i == 0: station_connection_info[station_names[i]]+=[station_names[i+1]]\n",
    "        elif i == len(station_names)-1:station_connection_info[station_names[i]] += [station_names[i-1]]\n",
    "        else: station_connection_info[station_names[i]] += [station_names[i-1],station_names[i+1]]\n",
    "    print('finish:'+url_2)"
   ]
  },
  {
   "cell_type": "code",
   "execution_count": null,
   "metadata": {},
   "outputs": [],
   "source": [
    "#station_connection_info"
   ]
  },
  {
   "cell_type": "code",
   "execution_count": null,
   "metadata": {},
   "outputs": [],
   "source": []
  },
  {
   "cell_type": "code",
   "execution_count": null,
   "metadata": {},
   "outputs": [],
   "source": [
    "#station_connection_info = defaultdict(list)\n",
    "for ele in links3:   \n",
    "    url_2 = 'https://baike.baidu.com'+ele\n",
    "    s = requests.Session()\n",
    "    s.headers['User-Agent'] = 'Mozilla/5.0 (Windows NT 10.0; Win64; x64) AppleWebKit/537.36 (KHTML, like Gecko) Chrome/73.0.3683.86 Safari/537.36'\n",
    "\n",
    "    response = s.get(url_2)\n",
    "    response.encoding = 'UTF-8'\n",
    "    soup = BeautifulSoup(response.text, \"html.parser\")\n",
    "    print(soup.h1)\n",
    "    table = soup.find_all(\"table\", {\"log-set-param\": \"table_view\",\"data-sort\":\"sortDisabled\"})\n",
    "    #print(table[1])\n",
    "    for ele in table:\n",
    "        if '车站列表' in str(ele):\n",
    "            table = ele\n",
    "            #print(str(ele))\n",
    "    #print([str(ele.find('td',{\"colspan\":\"1\",\"rowspan\":\"1\"})) for ele in table])\n",
    "    #print(url_2)\n",
    "    #for ele in table:\n",
    "        #for ele in a:\n",
    "        #print(ele)\n",
    "        #print(\"hahahahaha\"+str(ele.find('td')))\n",
    "        #print('&&&&&&&&&&&&&&&&&&&&&&&&&&&&&&&&&&&&&&&&&&&&&&&&&')\n",
    "    #print([str(ele.find('td')) for ele in table])#width=\"110\" align=\"center\" valign=\"center\"\n",
    "    #except:\n",
    "        #print(url_2)\n",
    "        #continue\n",
    "\n",
    "    what_we_want = r'\\>([\\u4e00-\\u9fff|0-9]+)\\<'\n",
    "    pattern4 = re.compile(what_we_want)\n",
    "    #try:\n",
    "    station_names = [ pattern4.findall(str(ele.find('a')))[0] for ele in table if (pattern4.findall(str(ele.find('a'))))]\n",
    "    #print(station_names)\n",
    "    #except:\n",
    "    #    print(url_2)\n",
    "    #    continue\n",
    "\n",
    "    for i in range(len(station_names)):\n",
    "        station[station_names[i]].add(soup.h1.string)\n",
    "        if i == 0: station_connection_info[station_names[i]]+=[station_names[i+1]]\n",
    "        elif i == len(station_names)-1:station_connection_info[station_names[i]] += [station_names[i-1]]\n",
    "        else: station_connection_info[station_names[i]] += [station_names[i-1],station_names[i+1]]\n",
    "    print('finish:'+url_2)"
   ]
  },
  {
   "cell_type": "code",
   "execution_count": 1092,
   "metadata": {},
   "outputs": [
    {
     "data": {
      "text/plain": [
       "264"
      ]
     },
     "execution_count": 1092,
     "metadata": {},
     "output_type": "execute_result"
    }
   ],
   "source": [
    "len(station_connection_info)"
   ]
  },
  {
   "cell_type": "code",
   "execution_count": 1093,
   "metadata": {},
   "outputs": [
    {
     "name": "stdout",
     "output_type": "stream",
     "text": [
      "key 北京西站, value ['湾子站', '六里桥东站', '军事博物馆站'] \n",
      "key 湾子站, value ['北京西站', '达官营站'] \n",
      "key 达官营站, value ['湾子站', '广安门内站'] \n"
     ]
    }
   ],
   "source": [
    "for x in list(station_connection_info)[0:3]:\n",
    "    print (\"key {}, value {} \".format(x,  station_connection_info[x]))"
   ]
  },
  {
   "cell_type": "code",
   "execution_count": 1094,
   "metadata": {},
   "outputs": [],
   "source": [
    "for x in list(station_connection_info)[0:3]:\n",
    "    station_connection_info[x] = list(set(station_connection_info[x]))"
   ]
  },
  {
   "cell_type": "code",
   "execution_count": 1095,
   "metadata": {},
   "outputs": [
    {
     "name": "stdout",
     "output_type": "stream",
     "text": [
      "key 北京西站, value ['湾子站', '军事博物馆站', '六里桥东站'] \n",
      "key 湾子站, value ['达官营站', '北京西站'] \n",
      "key 达官营站, value ['湾子站', '广安门内站'] \n"
     ]
    }
   ],
   "source": [
    "for x in list(station_connection_info)[0:3]:\n",
    "    print (\"key {}, value {} \".format(x,  station_connection_info[x]))"
   ]
  },
  {
   "cell_type": "code",
   "execution_count": 1096,
   "metadata": {},
   "outputs": [
    {
     "name": "stdout",
     "output_type": "stream",
     "text": [
      "key 北京西站, value {'北京地铁9号线', '北京地铁7号线'} \n",
      "key 湾子站, value {'北京地铁7号线'} \n",
      "key 达官营站, value {'北京地铁7号线'} \n"
     ]
    }
   ],
   "source": [
    "for x in list(station)[0:3]:\n",
    "    print (\"key {}, value {} \".format(x,  station[x]))"
   ]
  },
  {
   "cell_type": "code",
   "execution_count": 1097,
   "metadata": {},
   "outputs": [
    {
     "data": {
      "text/plain": [
       "264"
      ]
     },
     "execution_count": 1097,
     "metadata": {},
     "output_type": "execute_result"
    }
   ],
   "source": [
    "len(station_connection_info)"
   ]
  },
  {
   "cell_type": "code",
   "execution_count": 1098,
   "metadata": {},
   "outputs": [],
   "source": [
    "#import networkx as nx\n",
    "#city_graph = nx.Graph()\n",
    "#city_graph.add_nodes_from(list(station_connection_info.keys()))\n",
    "#%matplotlib inline\n",
    "#import matplotlib.pyplot as plt\n",
    "#nx.draw(station_connection_info, with_labels=True, node_size=30)"
   ]
  },
  {
   "cell_type": "code",
   "execution_count": 1140,
   "metadata": {},
   "outputs": [],
   "source": [
    " \"\"\"\n",
    "def search(start, destination, connection_grpah, sort_candidate):\n",
    "    pathes = [[start]]  #each element in it is a prepared path\n",
    "    \n",
    "    visitied = set()\n",
    "    \n",
    "    while pathes: # if we find existing pathes\n",
    "        path = pathes.pop(0)\n",
    "        froninter = path[-1]\n",
    "        \n",
    "        #if froninter in visitied: continue             #connection information 中有重复需要 eg.key 北京西站, value ['湾子站', '六里桥东站', '军事博物馆站','六里桥东站'] \n",
    "            \n",
    "        successors = connection_grpah[froninter]\n",
    "        \n",
    "        for city in successors:\n",
    "            if city in path: continue  # eliminate loop\n",
    "                \n",
    "            new_path = path + [city]\n",
    "            \n",
    "            pathes.append(new_path)\n",
    "            \n",
    "            if city == destination: return new_path\n",
    "        \n",
    "        visitied.add(froninter)\n",
    "        \n",
    "        pathes = sort_candidate(pathes) # 我们可以加一个排序函数 对我们的搜索策略进行控制\n",
    "        #print(pathes)\n",
    " \"\"\"\n",
    "\n",
    "def search(start, destination, connection_grpah, sort_candidate):\n",
    "    \n",
    "    pathes = [[start]]\n",
    "    visited = set()\n",
    "    while pathes:\n",
    "        path = pathes.pop(0)#需要和sort_candidate一致\n",
    "        #print(pathes)\n",
    "        froninter = path[-1]\n",
    "        \n",
    "        if froninter in visited:continue\n",
    "        successors = connection_grpah[froninter]\n",
    "        for s in successors:\n",
    "            \n",
    "            if s in path:continue\n",
    "            \n",
    "            \n",
    "            new_path = path+[s]\n",
    "            #pathes.append(new_path)\n",
    "            if new_path not in pathes:\n",
    "                pathes.insert(len(pathes),new_path)\n",
    "            if s == destination: return new_path\n",
    "        visited.add(froninter)#'set' object has no attribute 'append'\n",
    "        pathes = sort_candidate(pathes)\n",
    "        #print(pathes)"
   ]
  },
  {
   "cell_type": "code",
   "execution_count": 1100,
   "metadata": {},
   "outputs": [
    {
     "data": {
      "text/plain": [
       "{'北京地铁14号线', '北京地铁7号线'}"
      ]
     },
     "execution_count": 1100,
     "metadata": {},
     "output_type": "execute_result"
    }
   ],
   "source": [
    "station['九龙山站']"
   ]
  },
  {
   "cell_type": "code",
   "execution_count": 1101,
   "metadata": {},
   "outputs": [],
   "source": [
    "confirm_station = defaultdict(dict)\n",
    "def find_line(stations):\n",
    "    for i in range(len(stations)-1):\n",
    "        confirm_station[stations[i]] = \"\".join(list(station[stations[i]].intersection(station[stations[i+1]])))\n",
    "    confirm_station[stations[-1]] = confirm_station[stations[-2]]\n",
    "    return [stations[i]+'-'+str(confirm_station[stations[i]]) for i in range(len(stations))]"
   ]
  },
  {
   "cell_type": "code",
   "execution_count": 1102,
   "metadata": {},
   "outputs": [],
   "source": [
    "def pretty_print(cities):\n",
    "    print('🚇->'.join(cities))"
   ]
  },
  {
   "cell_type": "code",
   "execution_count": 1103,
   "metadata": {},
   "outputs": [
    {
     "name": "stdout",
     "output_type": "stream",
     "text": [
      "劲松站-北京地铁10号线🚇->潘家园站-北京地铁10号线🚇->十里河站-北京地铁14号线🚇->方庄站-北京地铁14号线🚇->蒲黄榆站-北京地铁14号线🚇->景泰站-北京地铁14号线🚇->永定门外站-北京地铁14号线🚇->陶然桥站-北京地铁14号线🚇->北京南站-北京地铁14号线\n"
     ]
    }
   ],
   "source": [
    " pretty_print(find_line(search('劲松站', '北京南站', station_connection_info, sort_candidate = lambda n:n)))"
   ]
  },
  {
   "cell_type": "code",
   "execution_count": 1104,
   "metadata": {},
   "outputs": [
    {
     "data": {
      "text/plain": [
       "2"
      ]
     },
     "execution_count": 1104,
     "metadata": {},
     "output_type": "execute_result"
    }
   ],
   "source": [
    "len(set(confirm_station.values()))"
   ]
  },
  {
   "cell_type": "code",
   "execution_count": 1105,
   "metadata": {},
   "outputs": [],
   "source": [
    "def transfer_as_much_possible(pathes):\n",
    "    return sorted(pathes, key=len, reverse=True)"
   ]
  },
  {
   "cell_type": "code",
   "execution_count": 1106,
   "metadata": {},
   "outputs": [
    {
     "name": "stdout",
     "output_type": "stream",
     "text": [
      "劲松站-北京地铁10号线🚇->双井站-北京地铁7号线🚇->广渠门外站-北京地铁7号线🚇->广渠门内站-北京地铁7号线🚇->磁器口站-北京地铁7号线🚇->桥湾站-北京地铁7号线🚇->珠市口站-北京地铁7号线🚇->虎坊桥站-北京地铁7号线🚇->菜市口站-北京地铁7号线🚇->广安门内站-北京地铁7号线🚇->达官营站-北京地铁7号线🚇->湾子站-北京地铁7号线🚇->北京西站-北京地铁9号线🚇->军事博物馆站-北京地铁9号线🚇->白堆子站-北京地铁9号线🚇->白石桥南站-北京地铁6号线🚇->花园桥站-北京地铁6号线🚇->慈寿寺站-北京地铁10号线🚇->西钓鱼台站-北京地铁10号线🚇->公主坟站-北京地铁10号线🚇->莲花桥站-北京地铁10号线🚇->六里桥站-北京地铁9号线🚇->七里庄站-北京地铁14号线🚇->西局站-北京地铁10号线🚇->泥洼站-北京地铁10号线🚇->丰台站-北京地铁10号线🚇->首经贸站-北京地铁10号线🚇->纪家庙站-北京地铁10号线🚇->草桥站-北京地铁10号线🚇->角门西站-北京地铁10号线🚇->角门东站-北京地铁10号线🚇->大红门站-北京地铁8号线🚇->海户屯站-北京地铁8号线🚇->木樨园站-北京地铁8号线🚇->永定门外站-北京地铁14号线🚇->景泰站-北京地铁14号线🚇->蒲黄榆站-北京地铁5号线🚇->刘家窑站-北京地铁5号线🚇->宋家庄站-北京地铁10号线🚇->成寿寺站-北京地铁10号线🚇->分钟寺站-北京地铁10号线🚇->十里河站-北京地铁14号线🚇->北工大西门站-北京地铁14号线🚇->平乐园站-北京地铁14号线🚇->九龙山站-北京地铁14号线🚇->大望路站-北京地铁14号线🚇->红庙站-北京地铁14号线🚇->金台路站-北京地铁6号线🚇->呼家楼站-北京地铁6号线🚇->东大桥站-北京地铁6号线🚇->朝阳门站-北京地铁6号线🚇->东四站-北京地铁6号线🚇->南锣鼓巷站-北京地铁8号线🚇->什刹海站-北京地铁8号线🚇->鼓楼大街站-北京地铁8号线🚇->安德里北街站-北京地铁8号线🚇->安华桥站-北京地铁8号线🚇->北土城站-北京地铁8号线🚇->奥体中心站-北京地铁8号线🚇->奥林匹克公园站-北京地铁15号线🚇->安立路站-北京地铁15号线🚇->大屯路东站-北京地铁15号线🚇->关庄站-北京地铁15号线🚇->望京西站-北京地铁15号线🚇->望京站-北京地铁14号线🚇->阜通站-北京地铁14号线🚇->望京南站-北京地铁14号线🚇->高家园站-北京地铁14号线🚇->将台站-北京地铁14号线\n"
     ]
    }
   ],
   "source": [
    "pretty_print(find_line(search('劲松站', '将台站', station_connection_info, sort_candidate = transfer_as_much_possible)))"
   ]
  },
  {
   "cell_type": "code",
   "execution_count": 1150,
   "metadata": {},
   "outputs": [],
   "source": [
    "def transfer_line_as_less_possible(pathes):\n",
    "    if len(pathes) <= 1: return pathes\n",
    "    def find_line2(path):\n",
    "        confirm_station2 = set()\n",
    "        for i in range(len(path)-1):\n",
    "            confirm_station2.update(station[path[i]].intersection(station[path[i+1]]))\n",
    "        #print(path)\n",
    "        #print(len(confirm_station2))\n",
    "        return len(confirm_station2)\n",
    "    #print(sorted(pathes, key=find_line2))\n",
    "    #print()\n",
    "    return sorted(pathes, key=find_line2)"
   ]
  },
  {
   "cell_type": "code",
   "execution_count": 1152,
   "metadata": {
    "scrolled": true
   },
   "outputs": [
    {
     "name": "stdout",
     "output_type": "stream",
     "text": [
      "劲松站-北京地铁10号线🚇->双井站-北京地铁7号线🚇->九龙山站-北京地铁14号线🚇->大望路站-北京地铁14号线\n"
     ]
    }
   ],
   "source": [
    " pretty_print(find_line(search('劲松站', '大望路站', station_connection_info, sort_candidate = transfer_line_as_less_possible)))"
   ]
  },
  {
   "cell_type": "code",
   "execution_count": 1153,
   "metadata": {},
   "outputs": [
    {
     "name": "stdout",
     "output_type": "stream",
     "text": [
      "金台夕照站-北京地铁10号线🚇->国贸站-北京地铁10号线🚇->双井站-北京地铁7号线🚇->九龙山站-北京地铁7号线\n"
     ]
    }
   ],
   "source": [
    " pretty_print(find_line(search('金台夕照站', '九龙山站', station_connection_info, sort_candidate = transfer_line_as_less_possible)))"
   ]
  },
  {
   "cell_type": "code",
   "execution_count": null,
   "metadata": {},
   "outputs": [],
   "source": []
  },
  {
   "cell_type": "code",
   "execution_count": null,
   "metadata": {},
   "outputs": [],
   "source": []
  },
  {
   "cell_type": "code",
   "execution_count": null,
   "metadata": {},
   "outputs": [],
   "source": []
  }
 ],
 "metadata": {
  "@webio": {
   "lastCommId": null,
   "lastKernelId": null
  },
  "kernelspec": {
   "display_name": "Python 3",
   "language": "python",
   "name": "python3"
  },
  "language_info": {
   "codemirror_mode": {
    "name": "ipython",
    "version": 3
   },
   "file_extension": ".py",
   "mimetype": "text/x-python",
   "name": "python",
   "nbconvert_exporter": "python",
   "pygments_lexer": "ipython3",
   "version": "3.6.8"
  }
 },
 "nbformat": 4,
 "nbformat_minor": 2
}
