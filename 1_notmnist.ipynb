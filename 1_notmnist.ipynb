{
 "cells": [
  {
   "cell_type": "markdown",
   "metadata": {
    "colab_type": "text",
    "id": "5hIbr52I7Z7U"
   },
   "source": [
    "First Step on Deep Learning Using Tensorflow\n",
    "=============\n",
    "\n",
    "\n",
    "各位同学们，我们在第九课上已经给大家介绍过了基础的深度学习知识。 这种最简单的网络是上一层网络全部链接到下一层网络，所以也称作 fully-connected（全连接） 网络。 \n",
    "\n",
    "在本次作业中，我们将使用经典数据集 mnist的升级版，notMNIST构建神经网络进行图像分类。 \n",
    "\n",
    "本次作业，你需要完成1, 2, 3三个联系。 能够掌握：\n",
    "\n",
    "1. 数据预处理的知识\n",
    "2. 深度学习程序的构建方式\n",
    "3. 训练集、测试集、验证集\n",
    "4. 神经网络的基础知识\n",
    "5. 图计算网络\n",
    "6. 正则化\n",
    "\n",
    "等非常重要的知识 \n",
    "\n",
    "Assignment 1\n",
    "------------\n",
    "\n",
    "The objective of this assignment is to learn about simple data curation practices, and familiarize you with some of the data we'll be reusing later.\n",
    "\n",
    "This notebook uses the [notMNIST](http://yaroslavvb.blogspot.com/2011/09/notmnist-dataset.html) dataset to be used with python experiments. This dataset is designed to look like the classic [MNIST](http://yann.lecun.com/exdb/mnist/) dataset, while looking a little more like real data: it's a harder task, and the data is a lot less 'clean' than MNIST."
   ]
  },
  {
   "cell_type": "code",
   "execution_count": 1,
   "metadata": {
    "cellView": "both",
    "colab": {
     "autoexec": {
      "startup": false,
      "wait_interval": 0
     }
    },
    "colab_type": "code",
    "id": "apJbCsBHl-2A"
   },
   "outputs": [],
   "source": [
    "# These are all the modules we'll be using later. Make sure you can import them\n",
    "# before proceeding further.\n",
    "from __future__ import print_function\n",
    "import imageio\n",
    "import matplotlib.pyplot as plt\n",
    "import numpy as np\n",
    "import os\n",
    "import sys\n",
    "import tarfile\n",
    "from IPython.display import display, Image\n",
    "from sklearn.linear_model import LogisticRegression\n",
    "from six.moves.urllib.request import urlretrieve\n",
    "from six.moves import cPickle as pickle\n",
    "\n",
    "# Config the matplotlib backend as plotting inline in IPython\n",
    "%matplotlib inline"
   ]
  },
  {
   "cell_type": "code",
   "execution_count": null,
   "metadata": {},
   "outputs": [],
   "source": []
  },
  {
   "cell_type": "markdown",
   "metadata": {
    "colab_type": "text",
    "id": "jNWGtZaXn-5j"
   },
   "source": [
    "First, we'll download the dataset to our local machine. The data consists of characters rendered in a variety of fonts on a 28x28 image. The labels are limited to 'A' through 'J' (10 classes). The training set has about 500k and the testset 19000 labeled examples. Given these sizes, it should be possible to train models quickly on any machine."
   ]
  },
  {
   "cell_type": "code",
   "execution_count": 2,
   "metadata": {
    "cellView": "both",
    "colab": {
     "autoexec": {
      "startup": false,
      "wait_interval": 0
     },
     "output_extras": [
      {
       "item_id": 1
      }
     ]
    },
    "colab_type": "code",
    "executionInfo": {
     "elapsed": 186058,
     "status": "ok",
     "timestamp": 1444485672507,
     "user": {
      "color": "#1FA15D",
      "displayName": "Vincent Vanhoucke",
      "isAnonymous": false,
      "isMe": true,
      "permissionId": "05076109866853157986",
      "photoUrl": "//lh6.googleusercontent.com/-cCJa7dTDcgQ/AAAAAAAAAAI/AAAAAAAACgw/r2EZ_8oYer4/s50-c-k-no/photo.jpg",
      "sessionId": "2a0a5e044bb03b66",
      "userId": "102167687554210253930"
     },
     "user_tz": 420
    },
    "id": "EYRJ4ICW6-da",
    "outputId": "0d0f85df-155f-4a89-8e7e-ee32df36ec8d"
   },
   "outputs": [
    {
     "name": "stdout",
     "output_type": "stream",
     "text": [
      "Found and verified C:\\Users\\hyh6hhy\\Desktop\\nlp-4\\lecture9\\assignment-09\\notMNIST_large.tar.gz\n",
      "Found and verified C:\\Users\\hyh6hhy\\Desktop\\nlp-4\\lecture9\\assignment-09\\notMNIST_small.tar.gz\n"
     ]
    }
   ],
   "source": [
    "url = 'https://commondatastorage.googleapis.com/books1000/'\n",
    "last_percent_reported = None\n",
    "data_root = r'C:\\Users\\hyh6hhy\\Desktop\\nlp-4\\lecture9\\assignment-09' # Change me to store data elsewhere\n",
    "\n",
    "def download_progress_hook(count, blockSize, totalSize):\n",
    "  \"\"\"A hook to report the progress of a download. This is mostly intended for users with\n",
    "  slow internet connections. Reports every 5% change in download progress.\n",
    "  \"\"\"\n",
    "  global last_percent_reported\n",
    "  percent = int(count * blockSize * 100 / totalSize)\n",
    "\n",
    "  if last_percent_reported != percent:\n",
    "    if percent % 5 == 0:\n",
    "      sys.stdout.write(\"%s%%\" % percent)\n",
    "      sys.stdout.flush()\n",
    "    else:\n",
    "      sys.stdout.write(\".\")\n",
    "      sys.stdout.flush()\n",
    "      \n",
    "    last_percent_reported = percent\n",
    "        \n",
    "def maybe_download(filename, expected_bytes, force=False):\n",
    "  \"\"\"Download a file if not present, and make sure it's the right size.\"\"\"\n",
    "  dest_filename = os.path.join(data_root, filename)\n",
    "  if force or not os.path.exists(dest_filename):\n",
    "    print('Attempting to download:', filename) \n",
    "    filename, _ = urlretrieve(url + filename, dest_filename, reporthook=download_progress_hook)\n",
    "    print('\\nDownload Complete!')\n",
    "  statinfo = os.stat(dest_filename)\n",
    "  if statinfo.st_size == expected_bytes:\n",
    "    print('Found and verified', dest_filename)\n",
    "  else:\n",
    "    raise Exception(\n",
    "      'Failed to verify ' + dest_filename + '. Can you get to it with a browser?')\n",
    "  return dest_filename\n",
    "\n",
    "train_filename = maybe_download('notMNIST_large.tar.gz', 247336696)\n",
    "test_filename = maybe_download('notMNIST_small.tar.gz', 8458043)"
   ]
  },
  {
   "cell_type": "markdown",
   "metadata": {
    "colab_type": "text",
    "id": "cC3p0oEyF8QT"
   },
   "source": [
    "Extract the dataset from the compressed .tar.gz file.\n",
    "This should give you a set of directories, labeled A through J."
   ]
  },
  {
   "cell_type": "code",
   "execution_count": 3,
   "metadata": {
    "cellView": "both",
    "colab": {
     "autoexec": {
      "startup": false,
      "wait_interval": 0
     },
     "output_extras": [
      {
       "item_id": 1
      }
     ]
    },
    "colab_type": "code",
    "executionInfo": {
     "elapsed": 186055,
     "status": "ok",
     "timestamp": 1444485672525,
     "user": {
      "color": "#1FA15D",
      "displayName": "Vincent Vanhoucke",
      "isAnonymous": false,
      "isMe": true,
      "permissionId": "05076109866853157986",
      "photoUrl": "//lh6.googleusercontent.com/-cCJa7dTDcgQ/AAAAAAAAAAI/AAAAAAAACgw/r2EZ_8oYer4/s50-c-k-no/photo.jpg",
      "sessionId": "2a0a5e044bb03b66",
      "userId": "102167687554210253930"
     },
     "user_tz": 420
    },
    "id": "H8CBE-WZ8nmj",
    "outputId": "ef6c790c-2513-4b09-962e-27c79390c762"
   },
   "outputs": [
    {
     "name": "stdout",
     "output_type": "stream",
     "text": [
      "C:\\Users\\hyh6hhy\\Desktop\\nlp-4\\lecture9\\assignment-09\\notMNIST_large already present - Skipping extraction of C:\\Users\\hyh6hhy\\Desktop\\nlp-4\\lecture9\\assignment-09\\notMNIST_large.tar.gz.\n",
      "['C:\\\\Users\\\\hyh6hhy\\\\Desktop\\\\nlp-4\\\\lecture9\\\\assignment-09\\\\notMNIST_large\\\\A', 'C:\\\\Users\\\\hyh6hhy\\\\Desktop\\\\nlp-4\\\\lecture9\\\\assignment-09\\\\notMNIST_large\\\\B', 'C:\\\\Users\\\\hyh6hhy\\\\Desktop\\\\nlp-4\\\\lecture9\\\\assignment-09\\\\notMNIST_large\\\\C', 'C:\\\\Users\\\\hyh6hhy\\\\Desktop\\\\nlp-4\\\\lecture9\\\\assignment-09\\\\notMNIST_large\\\\D', 'C:\\\\Users\\\\hyh6hhy\\\\Desktop\\\\nlp-4\\\\lecture9\\\\assignment-09\\\\notMNIST_large\\\\E', 'C:\\\\Users\\\\hyh6hhy\\\\Desktop\\\\nlp-4\\\\lecture9\\\\assignment-09\\\\notMNIST_large\\\\F', 'C:\\\\Users\\\\hyh6hhy\\\\Desktop\\\\nlp-4\\\\lecture9\\\\assignment-09\\\\notMNIST_large\\\\G', 'C:\\\\Users\\\\hyh6hhy\\\\Desktop\\\\nlp-4\\\\lecture9\\\\assignment-09\\\\notMNIST_large\\\\H', 'C:\\\\Users\\\\hyh6hhy\\\\Desktop\\\\nlp-4\\\\lecture9\\\\assignment-09\\\\notMNIST_large\\\\I', 'C:\\\\Users\\\\hyh6hhy\\\\Desktop\\\\nlp-4\\\\lecture9\\\\assignment-09\\\\notMNIST_large\\\\J']\n",
      "C:\\Users\\hyh6hhy\\Desktop\\nlp-4\\lecture9\\assignment-09\\notMNIST_small already present - Skipping extraction of C:\\Users\\hyh6hhy\\Desktop\\nlp-4\\lecture9\\assignment-09\\notMNIST_small.tar.gz.\n",
      "['C:\\\\Users\\\\hyh6hhy\\\\Desktop\\\\nlp-4\\\\lecture9\\\\assignment-09\\\\notMNIST_small\\\\A', 'C:\\\\Users\\\\hyh6hhy\\\\Desktop\\\\nlp-4\\\\lecture9\\\\assignment-09\\\\notMNIST_small\\\\B', 'C:\\\\Users\\\\hyh6hhy\\\\Desktop\\\\nlp-4\\\\lecture9\\\\assignment-09\\\\notMNIST_small\\\\C', 'C:\\\\Users\\\\hyh6hhy\\\\Desktop\\\\nlp-4\\\\lecture9\\\\assignment-09\\\\notMNIST_small\\\\D', 'C:\\\\Users\\\\hyh6hhy\\\\Desktop\\\\nlp-4\\\\lecture9\\\\assignment-09\\\\notMNIST_small\\\\E', 'C:\\\\Users\\\\hyh6hhy\\\\Desktop\\\\nlp-4\\\\lecture9\\\\assignment-09\\\\notMNIST_small\\\\F', 'C:\\\\Users\\\\hyh6hhy\\\\Desktop\\\\nlp-4\\\\lecture9\\\\assignment-09\\\\notMNIST_small\\\\G', 'C:\\\\Users\\\\hyh6hhy\\\\Desktop\\\\nlp-4\\\\lecture9\\\\assignment-09\\\\notMNIST_small\\\\H', 'C:\\\\Users\\\\hyh6hhy\\\\Desktop\\\\nlp-4\\\\lecture9\\\\assignment-09\\\\notMNIST_small\\\\I', 'C:\\\\Users\\\\hyh6hhy\\\\Desktop\\\\nlp-4\\\\lecture9\\\\assignment-09\\\\notMNIST_small\\\\J']\n"
     ]
    }
   ],
   "source": [
    "num_classes = 10\n",
    "np.random.seed(133)\n",
    "\n",
    "def maybe_extract(filename, force=False):\n",
    "  root = os.path.splitext(os.path.splitext(filename)[0])[0]  # remove .tar.gz\n",
    "  if os.path.isdir(root) and not force:\n",
    "    # You may override by setting force=True.\n",
    "    print('%s already present - Skipping extraction of %s.' % (root, filename))\n",
    "  else:\n",
    "    print('Extracting data for %s. This may take a while. Please wait.' % root)\n",
    "    tar = tarfile.open(filename)\n",
    "    sys.stdout.flush()\n",
    "    tar.extractall(data_root)\n",
    "    tar.close()\n",
    "  data_folders = [\n",
    "    os.path.join(root, d) for d in sorted(os.listdir(root))\n",
    "    if os.path.isdir(os.path.join(root, d))]\n",
    "  if len(data_folders) != num_classes:\n",
    "    raise Exception(\n",
    "      'Expected %d folders, one per class. Found %d instead.' % (\n",
    "        num_classes, len(data_folders)))\n",
    "  print(data_folders)\n",
    "  return data_folders\n",
    "  \n",
    "train_folders = maybe_extract(train_filename)\n",
    "test_folders = maybe_extract(test_filename)"
   ]
  },
  {
   "cell_type": "markdown",
   "metadata": {
    "colab_type": "text",
    "id": "4riXK3IoHgx6"
   },
   "source": [
    "---\n",
    "Problem 1\n",
    "---------\n",
    "\n",
    "Let's take a peek at some of the data to make sure it looks sensible. Each exemplar should be an image of a character A through J rendered in a different font. Display a sample of the images that we just downloaded. Hint: you can use the package IPython.display.\n",
    "\n",
    "---"
   ]
  },
  {
   "cell_type": "markdown",
   "metadata": {
    "colab_type": "text",
    "id": "PBdkjESPK8tw"
   },
   "source": [
    "Now let's load the data in a more manageable format. Since, depending on your computer setup you might not be able to fit it all in memory, we'll load each class into a separate dataset, store them on disk and curate them independently. Later we'll merge them into a single dataset of manageable size.\n",
    "\n",
    "We'll convert the entire dataset into a 3D array (image index, x, y) of floating point values, normalized to have approximately zero mean and standard deviation ~0.5 to make training easier down the road. \n",
    "\n",
    "A few images might not be readable, we'll just skip them."
   ]
  },
  {
   "cell_type": "code",
   "execution_count": 4,
   "metadata": {
    "cellView": "both",
    "colab": {
     "autoexec": {
      "startup": false,
      "wait_interval": 0
     },
     "output_extras": [
      {
       "item_id": 30
      }
     ]
    },
    "colab_type": "code",
    "executionInfo": {
     "elapsed": 399874,
     "status": "ok",
     "timestamp": 1444485886378,
     "user": {
      "color": "#1FA15D",
      "displayName": "Vincent Vanhoucke",
      "isAnonymous": false,
      "isMe": true,
      "permissionId": "05076109866853157986",
      "photoUrl": "//lh6.googleusercontent.com/-cCJa7dTDcgQ/AAAAAAAAAAI/AAAAAAAACgw/r2EZ_8oYer4/s50-c-k-no/photo.jpg",
      "sessionId": "2a0a5e044bb03b66",
      "userId": "102167687554210253930"
     },
     "user_tz": 420
    },
    "id": "h7q0XhG3MJdf",
    "outputId": "92c391bb-86ff-431d-9ada-315568a19e59"
   },
   "outputs": [
    {
     "name": "stdout",
     "output_type": "stream",
     "text": [
      "C:\\Users\\hyh6hhy\\Desktop\\nlp-4\\lecture9\\assignment-09\\notMNIST_large\\A.pickle already present - Skipping pickling.\n",
      "C:\\Users\\hyh6hhy\\Desktop\\nlp-4\\lecture9\\assignment-09\\notMNIST_large\\B.pickle already present - Skipping pickling.\n",
      "C:\\Users\\hyh6hhy\\Desktop\\nlp-4\\lecture9\\assignment-09\\notMNIST_large\\C.pickle already present - Skipping pickling.\n",
      "C:\\Users\\hyh6hhy\\Desktop\\nlp-4\\lecture9\\assignment-09\\notMNIST_large\\D.pickle already present - Skipping pickling.\n",
      "C:\\Users\\hyh6hhy\\Desktop\\nlp-4\\lecture9\\assignment-09\\notMNIST_large\\E.pickle already present - Skipping pickling.\n",
      "C:\\Users\\hyh6hhy\\Desktop\\nlp-4\\lecture9\\assignment-09\\notMNIST_large\\F.pickle already present - Skipping pickling.\n",
      "C:\\Users\\hyh6hhy\\Desktop\\nlp-4\\lecture9\\assignment-09\\notMNIST_large\\G.pickle already present - Skipping pickling.\n",
      "C:\\Users\\hyh6hhy\\Desktop\\nlp-4\\lecture9\\assignment-09\\notMNIST_large\\H.pickle already present - Skipping pickling.\n",
      "C:\\Users\\hyh6hhy\\Desktop\\nlp-4\\lecture9\\assignment-09\\notMNIST_large\\I.pickle already present - Skipping pickling.\n",
      "C:\\Users\\hyh6hhy\\Desktop\\nlp-4\\lecture9\\assignment-09\\notMNIST_large\\J.pickle already present - Skipping pickling.\n",
      "C:\\Users\\hyh6hhy\\Desktop\\nlp-4\\lecture9\\assignment-09\\notMNIST_small\\A.pickle already present - Skipping pickling.\n",
      "C:\\Users\\hyh6hhy\\Desktop\\nlp-4\\lecture9\\assignment-09\\notMNIST_small\\B.pickle already present - Skipping pickling.\n",
      "C:\\Users\\hyh6hhy\\Desktop\\nlp-4\\lecture9\\assignment-09\\notMNIST_small\\C.pickle already present - Skipping pickling.\n",
      "C:\\Users\\hyh6hhy\\Desktop\\nlp-4\\lecture9\\assignment-09\\notMNIST_small\\D.pickle already present - Skipping pickling.\n",
      "C:\\Users\\hyh6hhy\\Desktop\\nlp-4\\lecture9\\assignment-09\\notMNIST_small\\E.pickle already present - Skipping pickling.\n",
      "C:\\Users\\hyh6hhy\\Desktop\\nlp-4\\lecture9\\assignment-09\\notMNIST_small\\F.pickle already present - Skipping pickling.\n",
      "C:\\Users\\hyh6hhy\\Desktop\\nlp-4\\lecture9\\assignment-09\\notMNIST_small\\G.pickle already present - Skipping pickling.\n",
      "C:\\Users\\hyh6hhy\\Desktop\\nlp-4\\lecture9\\assignment-09\\notMNIST_small\\H.pickle already present - Skipping pickling.\n",
      "C:\\Users\\hyh6hhy\\Desktop\\nlp-4\\lecture9\\assignment-09\\notMNIST_small\\I.pickle already present - Skipping pickling.\n",
      "C:\\Users\\hyh6hhy\\Desktop\\nlp-4\\lecture9\\assignment-09\\notMNIST_small\\J.pickle already present - Skipping pickling.\n"
     ]
    }
   ],
   "source": [
    "image_size = 28  # Pixel width and height.\n",
    "pixel_depth = 255.0  # Number of levels per pixel.\n",
    "\n",
    "def load_letter(folder, min_num_images):\n",
    "  \"\"\"Load the data for a single letter label.\"\"\"\n",
    "  image_files = os.listdir(folder)\n",
    "  dataset = np.ndarray(shape=(len(image_files), image_size, image_size),\n",
    "                         dtype=np.float32)\n",
    "  print(folder)\n",
    "  num_images = 0\n",
    "  for image in image_files:\n",
    "    image_file = os.path.join(folder, image)\n",
    "    try:\n",
    "      image_data = (imageio.imread(image_file).astype(float) - \n",
    "                    pixel_depth / 2) / pixel_depth\n",
    "      if image_data.shape != (image_size, image_size):\n",
    "        raise Exception('Unexpected image shape: %s' % str(image_data.shape))\n",
    "      dataset[num_images, :, :] = image_data\n",
    "      num_images = num_images + 1\n",
    "    except (IOError, ValueError) as e:\n",
    "      print('Could not read:', image_file, ':', e, '- it\\'s ok, skipping.')\n",
    "    \n",
    "  dataset = dataset[0:num_images, :, :]\n",
    "  if num_images < min_num_images:\n",
    "    raise Exception('Many fewer images than expected: %d < %d' %\n",
    "                    (num_images, min_num_images))\n",
    "    \n",
    "  print('Full dataset tensor:', dataset.shape)\n",
    "  print('Mean:', np.mean(dataset))\n",
    "  print('Standard deviation:', np.std(dataset))\n",
    "  return dataset\n",
    "        \n",
    "def maybe_pickle(data_folders, min_num_images_per_class, force=False):\n",
    "  dataset_names = []\n",
    "  for folder in data_folders:\n",
    "    set_filename = folder + '.pickle'\n",
    "    dataset_names.append(set_filename)\n",
    "    if os.path.exists(set_filename) and not force:\n",
    "      # You may override by setting force=True.\n",
    "      print('%s already present - Skipping pickling.' % set_filename)\n",
    "    else:\n",
    "      print('Pickling %s.' % set_filename)\n",
    "      dataset = load_letter(folder, min_num_images_per_class)\n",
    "      try:\n",
    "        with open(set_filename, 'wb') as f:\n",
    "          pickle.dump(dataset, f, pickle.HIGHEST_PROTOCOL)\n",
    "      except Exception as e:\n",
    "        print('Unable to save data to', set_filename, ':', e)\n",
    "  \n",
    "  return dataset_names\n",
    "\n",
    "train_datasets = maybe_pickle(train_folders, 45000)\n",
    "test_datasets = maybe_pickle(test_folders, 1800)"
   ]
  },
  {
   "cell_type": "markdown",
   "metadata": {
    "colab_type": "text",
    "id": "vUdbskYE2d87"
   },
   "source": [
    "---\n",
    "Problem 2\n",
    "---------\n",
    "\n",
    "Let's verify that the data still looks good. Displaying a sample of the labels and images from the ndarray. Hint: you can use matplotlib.pyplot.\n",
    "\n",
    "---"
   ]
  },
  {
   "cell_type": "code",
   "execution_count": 23,
   "metadata": {},
   "outputs": [
    {
     "data": {
      "text/plain": [
       "10"
      ]
     },
     "execution_count": 23,
     "metadata": {},
     "output_type": "execute_result"
    }
   ],
   "source": [
    "len(train_datasets)"
   ]
  },
  {
   "cell_type": "code",
   "execution_count": 44,
   "metadata": {},
   "outputs": [
    {
     "name": "stdout",
     "output_type": "stream",
     "text": [
      "C:\\Users\\hyh6hhy\\Desktop\\nlp-4\\lecture9\\assignment-09\\notMNIST_large\\A.pickle\n",
      "C:\\Users\\hyh6hhy\\Desktop\\nlp-4\\lecture9\\assignment-09\\notMNIST_large\\B.pickle\n",
      "C:\\Users\\hyh6hhy\\Desktop\\nlp-4\\lecture9\\assignment-09\\notMNIST_large\\C.pickle\n",
      "C:\\Users\\hyh6hhy\\Desktop\\nlp-4\\lecture9\\assignment-09\\notMNIST_large\\D.pickle\n",
      "C:\\Users\\hyh6hhy\\Desktop\\nlp-4\\lecture9\\assignment-09\\notMNIST_large\\E.pickle\n",
      "C:\\Users\\hyh6hhy\\Desktop\\nlp-4\\lecture9\\assignment-09\\notMNIST_large\\F.pickle\n",
      "C:\\Users\\hyh6hhy\\Desktop\\nlp-4\\lecture9\\assignment-09\\notMNIST_large\\G.pickle\n",
      "C:\\Users\\hyh6hhy\\Desktop\\nlp-4\\lecture9\\assignment-09\\notMNIST_large\\H.pickle\n",
      "C:\\Users\\hyh6hhy\\Desktop\\nlp-4\\lecture9\\assignment-09\\notMNIST_large\\I.pickle\n",
      "C:\\Users\\hyh6hhy\\Desktop\\nlp-4\\lecture9\\assignment-09\\notMNIST_large\\J.pickle\n"
     ]
    },
    {
     "data": {
      "image/png": "[encoded data removed]",
      "text/plain": [
       "<Figure size 432x288 with 1 Axes>"
      ]
     },
     "metadata": {
      "needs_background": "light"
     },
     "output_type": "display_data"
    },
    {
     "data": {
      "image/png": "[encoded data removed]",
      "text/plain": [
       "<Figure size 432x288 with 1 Axes>"
      ]
     },
     "metadata": {
      "needs_background": "light"
     },
     "output_type": "display_data"
    },
    {
     "data": {
      "image/png": "[encoded data removed]",
      "text/plain": [
       "<Figure size 432x288 with 1 Axes>"
      ]
     },
     "metadata": {
      "needs_background": "light"
     },
     "output_type": "display_data"
    },
    {
     "data": {
      "image/png": "[encoded data removed]",
      "text/plain": [
       "<Figure size 432x288 with 1 Axes>"
      ]
     },
     "metadata": {
      "needs_background": "light"
     },
     "output_type": "display_data"
    },
    {
     "data": {
      "image/png": "[encoded data removed]",
      "text/plain": [
       "<Figure size 432x288 with 1 Axes>"
      ]
     },
     "metadata": {
      "needs_background": "light"
     },
     "output_type": "display_data"
    },
    {
     "data": {
      "image/png": "[encoded data removed]",
      "text/plain": [
       "<Figure size 432x288 with 1 Axes>"
      ]
     },
     "metadata": {
      "needs_background": "light"
     },
     "output_type": "display_data"
    },
    {
     "data": {
      "image/png": "[encoded data removed]",
      "text/plain": [
       "<Figure size 432x288 with 1 Axes>"
      ]
     },
     "metadata": {
      "needs_background": "light"
     },
     "output_type": "display_data"
    },
    {
     "data": {
      "image/png": "[encoded data removed]",
      "text/plain": [
       "<Figure size 432x288 with 1 Axes>"
      ]
     },
     "metadata": {
      "needs_background": "light"
     },
     "output_type": "display_data"
    },
    {
     "data": {
      "image/png": "[encoded data removed]",
      "text/plain": [
       "<Figure size 432x288 with 1 Axes>"
      ]
     },
     "metadata": {
      "needs_background": "light"
     },
     "output_type": "display_data"
    },
    {
     "data": {
      "image/png": "[encoded data removed]",
      "text/plain": [
       "<Figure size 432x288 with 1 Axes>"
      ]
     },
     "metadata": {
      "needs_background": "light"
     },
     "output_type": "display_data"
    }
   ],
   "source": [
    "for i in range(0,len(train_datasets)):\n",
    "    print(train_datasets[i])\n",
    "    with open(train_datasets[i], 'rb') as f:\n",
    "        letter_set = pickle.load(f)\n",
    "        plt.figure()\n",
    "        plt.imshow(letter_set[1])\n",
    "plt.show()"
   ]
  },
  {
   "cell_type": "code",
   "execution_count": 32,
   "metadata": {},
   "outputs": [
    {
     "data": {
      "text/plain": [
       "'C:\\\\Users\\\\hyh6hhy\\\\Desktop\\\\nlp-4\\\\lecture9\\\\assignment-09\\\\notMNIST_large\\\\B.pickle'"
      ]
     },
     "execution_count": 32,
     "metadata": {},
     "output_type": "execute_result"
    }
   ],
   "source": [
    "train_datasets[1]"
   ]
  },
  {
   "cell_type": "markdown",
   "metadata": {
    "colab_type": "text",
    "id": "cYznx5jUwzoO"
   },
   "source": [
    "---\n",
    "Problem 3\n",
    "---------\n",
    "Another check: we expect the data to be balanced across classes. Verify that.\n",
    "\n",
    "---"
   ]
  },
  {
   "cell_type": "code",
   "execution_count": 45,
   "metadata": {},
   "outputs": [
    {
     "name": "stdout",
     "output_type": "stream",
     "text": [
      "C:\\Users\\hyh6hhy\\Desktop\\nlp-4\\lecture9\\assignment-09\\notMNIST_large\\A.pickle\n",
      "52909\n",
      "C:\\Users\\hyh6hhy\\Desktop\\nlp-4\\lecture9\\assignment-09\\notMNIST_large\\B.pickle\n",
      "52911\n",
      "C:\\Users\\hyh6hhy\\Desktop\\nlp-4\\lecture9\\assignment-09\\notMNIST_large\\C.pickle\n",
      "52912\n",
      "C:\\Users\\hyh6hhy\\Desktop\\nlp-4\\lecture9\\assignment-09\\notMNIST_large\\D.pickle\n",
      "52911\n",
      "C:\\Users\\hyh6hhy\\Desktop\\nlp-4\\lecture9\\assignment-09\\notMNIST_large\\E.pickle\n",
      "52912\n",
      "C:\\Users\\hyh6hhy\\Desktop\\nlp-4\\lecture9\\assignment-09\\notMNIST_large\\F.pickle\n",
      "52912\n",
      "C:\\Users\\hyh6hhy\\Desktop\\nlp-4\\lecture9\\assignment-09\\notMNIST_large\\G.pickle\n",
      "52912\n",
      "C:\\Users\\hyh6hhy\\Desktop\\nlp-4\\lecture9\\assignment-09\\notMNIST_large\\H.pickle\n",
      "52912\n",
      "C:\\Users\\hyh6hhy\\Desktop\\nlp-4\\lecture9\\assignment-09\\notMNIST_large\\I.pickle\n",
      "52912\n",
      "C:\\Users\\hyh6hhy\\Desktop\\nlp-4\\lecture9\\assignment-09\\notMNIST_large\\J.pickle\n",
      "52911\n"
     ]
    }
   ],
   "source": [
    "for i in range(0,len(train_datasets)):\n",
    "    print(train_datasets[i])\n",
    "    with open(train_datasets[i], 'rb') as f:\n",
    "        letter_set = pickle.load(f)\n",
    "        print(len(letter_set))\n",
    "#plt.show()"
   ]
  },
  {
   "cell_type": "markdown",
   "metadata": {
    "colab_type": "text",
    "id": "LA7M7K22ynCt"
   },
   "source": [
    "Merge and prune the training data as needed. Depending on your computer setup, you might not be able to fit it all in memory, and you can tune `train_size` as needed. The labels will be stored into a separate array of integers 0 through 9.\n",
    "\n",
    "Also create a validation dataset for hyperparameter tuning."
   ]
  },
  {
   "cell_type": "code",
   "execution_count": 42,
   "metadata": {
    "cellView": "both",
    "colab": {
     "autoexec": {
      "startup": false,
      "wait_interval": 0
     },
     "output_extras": [
      {
       "item_id": 1
      }
     ]
    },
    "colab_type": "code",
    "executionInfo": {
     "elapsed": 411281,
     "status": "ok",
     "timestamp": 1444485897869,
     "user": {
      "color": "#1FA15D",
      "displayName": "Vincent Vanhoucke",
      "isAnonymous": false,
      "isMe": true,
      "permissionId": "05076109866853157986",
      "photoUrl": "//lh6.googleusercontent.com/-cCJa7dTDcgQ/AAAAAAAAAAI/AAAAAAAACgw/r2EZ_8oYer4/s50-c-k-no/photo.jpg",
      "sessionId": "2a0a5e044bb03b66",
      "userId": "102167687554210253930"
     },
     "user_tz": 420
    },
    "id": "s3mWgZLpyuzq",
    "outputId": "8af66da6-902d-4719-bedc-7c9fb7ae7948"
   },
   "outputs": [
    {
     "name": "stdout",
     "output_type": "stream",
     "text": [
      "Training: (200000, 28, 28) (200000,)\n",
      "Validation: (10000, 28, 28) (10000,)\n",
      "Testing: (10000, 28, 28) (10000,)\n"
     ]
    }
   ],
   "source": [
    "def make_arrays(nb_rows, img_size):\n",
    "  if nb_rows:\n",
    "    dataset = np.ndarray((nb_rows, img_size, img_size), dtype=np.float32)\n",
    "    labels = np.ndarray(nb_rows, dtype=np.int32)\n",
    "  else:\n",
    "    dataset, labels = None, None\n",
    "  return dataset, labels\n",
    "\n",
    "def merge_datasets(pickle_files, train_size, valid_size=0):\n",
    "  num_classes = len(pickle_files)\n",
    "  valid_dataset, valid_labels = make_arrays(valid_size, image_size)\n",
    "  train_dataset, train_labels = make_arrays(train_size, image_size)\n",
    "  vsize_per_class = valid_size // num_classes\n",
    "  tsize_per_class = train_size // num_classes\n",
    "    \n",
    "  start_v, start_t = 0, 0\n",
    "  end_v, end_t = vsize_per_class, tsize_per_class\n",
    "  end_l = vsize_per_class+tsize_per_class\n",
    "  for label, pickle_file in enumerate(pickle_files):       \n",
    "    try:\n",
    "      with open(pickle_file, 'rb') as f:\n",
    "        letter_set = pickle.load(f)\n",
    "        # let's shuffle the letters to have random validation and training set\n",
    "        np.random.shuffle(letter_set)\n",
    "        if valid_dataset is not None:\n",
    "          valid_letter = letter_set[:vsize_per_class, :, :]\n",
    "          valid_dataset[start_v:end_v, :, :] = valid_letter\n",
    "          valid_labels[start_v:end_v] = label\n",
    "          start_v += vsize_per_class\n",
    "          end_v += vsize_per_class\n",
    "                    \n",
    "        train_letter = letter_set[vsize_per_class:end_l, :, :]\n",
    "        train_dataset[start_t:end_t, :, :] = train_letter\n",
    "        train_labels[start_t:end_t] = label\n",
    "        start_t += tsize_per_class\n",
    "        end_t += tsize_per_class\n",
    "    except Exception as e:\n",
    "      print('Unable to process data from', pickle_file, ':', e)\n",
    "      raise\n",
    "    \n",
    "  return valid_dataset, valid_labels, train_dataset, train_labels\n",
    "            \n",
    "            \n",
    "train_size = 200000\n",
    "valid_size = 10000\n",
    "test_size = 10000\n",
    "\n",
    "valid_dataset, valid_labels, train_dataset, train_labels = merge_datasets(\n",
    "  train_datasets, train_size, valid_size)\n",
    "_, _, test_dataset, test_labels = merge_datasets(test_datasets, test_size)\n",
    "\n",
    "print('Training:', train_dataset.shape, train_labels.shape)\n",
    "print('Validation:', valid_dataset.shape, valid_labels.shape)\n",
    "print('Testing:', test_dataset.shape, test_labels.shape)"
   ]
  },
  {
   "cell_type": "markdown",
   "metadata": {
    "colab_type": "text",
    "id": "GPTCnjIcyuKN"
   },
   "source": [
    "Next, we'll randomize the data. It's important to have the labels well shuffled for the training and test distributions to match."
   ]
  },
  {
   "cell_type": "code",
   "execution_count": 43,
   "metadata": {
    "cellView": "both",
    "colab": {
     "autoexec": {
      "startup": false,
      "wait_interval": 0
     }
    },
    "colab_type": "code",
    "id": "6WZ2l2tN2zOL"
   },
   "outputs": [],
   "source": [
    "def randomize(dataset, labels):\n",
    "  permutation = np.random.permutation(labels.shape[0])\n",
    "  shuffled_dataset = dataset[permutation,:,:]\n",
    "  shuffled_labels = labels[permutation]\n",
    "  return shuffled_dataset, shuffled_labels\n",
    "train_dataset, train_labels = randomize(train_dataset, train_labels)\n",
    "test_dataset, test_labels = randomize(test_dataset, test_labels)\n",
    "valid_dataset, valid_labels = randomize(valid_dataset, valid_labels)"
   ]
  },
  {
   "cell_type": "markdown",
   "metadata": {
    "colab_type": "text",
    "id": "puDUTe6t6USl"
   },
   "source": [
    "---\n",
    "Problem 4\n",
    "---------\n",
    "Convince yourself that the data is still good after shuffling!\n",
    "\n",
    "---"
   ]
  },
  {
   "cell_type": "code",
   "execution_count": 60,
   "metadata": {},
   "outputs": [
    {
     "name": "stdout",
     "output_type": "stream",
     "text": [
      "G\n"
     ]
    },
    {
     "data": {
      "image/png": "[encoded data removed]",
      "text/plain": [
       "<Figure size 432x288 with 1 Axes>"
      ]
     },
     "metadata": {
      "needs_background": "light"
     },
     "output_type": "display_data"
    },
    {
     "name": "stdout",
     "output_type": "stream",
     "text": [
      "D\n"
     ]
    },
    {
     "data": {
      "image/png": "[encoded data removed]",
      "text/plain": [
       "<Figure size 432x288 with 1 Axes>"
      ]
     },
     "metadata": {
      "needs_background": "light"
     },
     "output_type": "display_data"
    },
    {
     "name": "stdout",
     "output_type": "stream",
     "text": [
      "F\n"
     ]
    },
    {
     "data": {
      "image/png": "[encoded data removed]",
      "text/plain": [
       "<Figure size 432x288 with 1 Axes>"
      ]
     },
     "metadata": {
      "needs_background": "light"
     },
     "output_type": "display_data"
    },
    {
     "name": "stdout",
     "output_type": "stream",
     "text": [
      "I\n"
     ]
    },
    {
     "data": {
      "image/png": "[encoded data removed]",
      "text/plain": [
       "<Figure size 432x288 with 1 Axes>"
      ]
     },
     "metadata": {
      "needs_background": "light"
     },
     "output_type": "display_data"
    },
    {
     "name": "stdout",
     "output_type": "stream",
     "text": [
      "D\n"
     ]
    },
    {
     "data": {
      "image/png": "[encoded data removed]",
      "text/plain": [
       "<Figure size 432x288 with 1 Axes>"
      ]
     },
     "metadata": {
      "needs_background": "light"
     },
     "output_type": "display_data"
    },
    {
     "name": "stdout",
     "output_type": "stream",
     "text": [
      "C\n"
     ]
    },
    {
     "data": {
      "image/png": "[encoded data removed]",
      "text/plain": [
       "<Figure size 432x288 with 1 Axes>"
      ]
     },
     "metadata": {
      "needs_background": "light"
     },
     "output_type": "display_data"
    },
    {
     "name": "stdout",
     "output_type": "stream",
     "text": [
      "C\n"
     ]
    },
    {
     "data": {
      "image/png": "[encoded data removed]",
      "text/plain": [
       "<Figure size 432x288 with 1 Axes>"
      ]
     },
     "metadata": {
      "needs_background": "light"
     },
     "output_type": "display_data"
    },
    {
     "name": "stdout",
     "output_type": "stream",
     "text": [
      "D\n"
     ]
    },
    {
     "data": {
      "image/png": "[encoded data removed]",
      "text/plain": [
       "<Figure size 432x288 with 1 Axes>"
      ]
     },
     "metadata": {
      "needs_background": "light"
     },
     "output_type": "display_data"
    },
    {
     "name": "stdout",
     "output_type": "stream",
     "text": [
      "J\n"
     ]
    },
    {
     "data": {
      "image/png": "[encoded data removed]",
      "text/plain": [
       "<Figure size 432x288 with 1 Axes>"
      ]
     },
     "metadata": {
      "needs_background": "light"
     },
     "output_type": "display_data"
    },
    {
     "name": "stdout",
     "output_type": "stream",
     "text": [
      "F\n"
     ]
    },
    {
     "data": {
      "image/png": "[encoded data removed]",
      "text/plain": [
       "<Figure size 432x288 with 1 Axes>"
      ]
     },
     "metadata": {
      "needs_background": "light"
     },
     "output_type": "display_data"
    }
   ],
   "source": [
    "import string\n",
    "alpha = list(string.ascii_uppercase)[:10]\n",
    "for i in np.random.randint(200000, size=10):\n",
    "    print(alpha[train_labels[i]])\n",
    "    plt.imshow(train_dataset[i])\n",
    "    plt.show()"
   ]
  },
  {
   "cell_type": "markdown",
   "metadata": {
    "colab_type": "text",
    "id": "tIQJaJuwg5Hw"
   },
   "source": [
    "Finally, let's save the data for later reuse:"
   ]
  },
  {
   "cell_type": "code",
   "execution_count": 62,
   "metadata": {
    "cellView": "both",
    "colab": {
     "autoexec": {
      "startup": false,
      "wait_interval": 0
     }
    },
    "colab_type": "code",
    "id": "QiR_rETzem6C"
   },
   "outputs": [],
   "source": [
    "pickle_file = os.path.join(data_root, 'notMNIST.pickle')\n",
    "\n",
    "try:\n",
    "  f = open(pickle_file, 'wb')\n",
    "  save = {\n",
    "    'train_dataset': train_dataset,\n",
    "    'train_labels': train_labels,\n",
    "    'valid_dataset': valid_dataset,\n",
    "    'valid_labels': valid_labels,\n",
    "    'test_dataset': test_dataset,\n",
    "    'test_labels': test_labels,\n",
    "    }\n",
    "  pickle.dump(save, f, pickle.HIGHEST_PROTOCOL)\n",
    "  f.close()\n",
    "except Exception as e:\n",
    "  print('Unable to save data to', pickle_file, ':', e)\n",
    "  raise"
   ]
  },
  {
   "cell_type": "code",
   "execution_count": 63,
   "metadata": {
    "cellView": "both",
    "colab": {
     "autoexec": {
      "startup": false,
      "wait_interval": 0
     },
     "output_extras": [
      {
       "item_id": 1
      }
     ]
    },
    "colab_type": "code",
    "executionInfo": {
     "elapsed": 413065,
     "status": "ok",
     "timestamp": 1444485899688,
     "user": {
      "color": "#1FA15D",
      "displayName": "Vincent Vanhoucke",
      "isAnonymous": false,
      "isMe": true,
      "permissionId": "05076109866853157986",
      "photoUrl": "//lh6.googleusercontent.com/-cCJa7dTDcgQ/AAAAAAAAAAI/AAAAAAAACgw/r2EZ_8oYer4/s50-c-k-no/photo.jpg",
      "sessionId": "2a0a5e044bb03b66",
      "userId": "102167687554210253930"
     },
     "user_tz": 420
    },
    "id": "hQbLjrW_iT39",
    "outputId": "b440efc6-5ee1-4cbc-d02d-93db44ebd956"
   },
   "outputs": [
    {
     "name": "stdout",
     "output_type": "stream",
     "text": [
      "Compressed pickle size: 690800506\n"
     ]
    }
   ],
   "source": [
    "statinfo = os.stat(pickle_file)\n",
    "print('Compressed pickle size:', statinfo.st_size)"
   ]
  },
  {
   "cell_type": "markdown",
   "metadata": {
    "colab_type": "text",
    "id": "gE_cRAQB33lk"
   },
   "source": [
    "---\n",
    "Problem 5\n",
    "---------\n",
    "\n",
    "By construction, this dataset might contain a lot of overlapping samples, including training data that's also contained in the validation and test set! Overlap between training and test can skew the results if you expect to use your model in an environment where there is never an overlap, but are actually ok if you expect to see training samples recur when you use it.\n",
    "Measure how much overlap there is between training, validation and test samples.\n",
    "\n",
    "Optional questions:\n",
    "- What about near duplicates between datasets? (images that are almost identical)\n",
    "- Create a sanitized validation and test set, and compare your accuracy on those in subsequent assignments.\n",
    "---"
   ]
  },
  {
   "cell_type": "code",
   "execution_count": 70,
   "metadata": {},
   "outputs": [
    {
     "data": {
      "text/plain": [
       "(28, 28)"
      ]
     },
     "execution_count": 70,
     "metadata": {},
     "output_type": "execute_result"
    }
   ],
   "source": [
    "train_dataset[1].shape"
   ]
  },
  {
   "cell_type": "markdown",
   "metadata": {
    "colab_type": "text",
    "id": "L8oww1s4JMQx"
   },
   "source": [
    "---\n",
    "Problem 6\n",
    "---------\n",
    "\n",
    "Let's get an idea of what an off-the-shelf classifier can give you on this data. It's always good to check that there is something to learn, and that it's a problem that is not so trivial that a canned solution solves it.\n",
    "\n",
    "Train a simple model on this data using 50, 100, 1000 and 5000 training samples. Hint: you can use the LogisticRegression model from sklearn.linear_model.\n",
    "\n",
    "Optional question: train an off-the-shelf model on all the data!\n",
    "\n",
    "---"
   ]
  },
  {
   "cell_type": "code",
   "execution_count": 138,
   "metadata": {},
   "outputs": [],
   "source": [
    "from sklearn.metrics import f1_score\n",
    "from sklearn.metrics import accuracy_score\n",
    "from sklearn.metrics import precision_score\n",
    "from sklearn.metrics import recall_score\n",
    "from sklearn.metrics import roc_auc_score\n",
    "from sklearn.metrics import confusion_matrix\n",
    "\n",
    "def get_performance(model, x, y):\n",
    "    y_pred = model.predict(x)\n",
    "    print(\"f1 score is {}\".format(f1_score(y, y_pred, average = None)))\n",
    "    print(\"accuracy score is {}\".format(accuracy_score(y,y_pred)))\n",
    "    print(\"precision score is {}\".format(precision_score(y, y_pred,average = None)))\n",
    "    #print(\"recall score is {}\".format(recall_score(y, y_pred,average = None)))\n",
    "    #print(\"roc auc score is {}\".format(roc_auc_score(y, y_pred,average = None)))\n",
    "    cm = confusion_matrix(y, y_pred)\n",
    "    cm_normalized = cm.astype('float') / cm.sum(axis=1)[:, np.newaxis]\n",
    "    print(\"confusion matrix :\\n {}\".format(cm_normalized))"
   ]
  },
  {
   "cell_type": "code",
   "execution_count": 139,
   "metadata": {},
   "outputs": [
    {
     "data": {
      "text/plain": [
       "(50, 28, 28)"
      ]
     },
     "execution_count": 139,
     "metadata": {},
     "output_type": "execute_result"
    }
   ],
   "source": [
    "train_dataset[:50].shape"
   ]
  },
  {
   "cell_type": "code",
   "execution_count": 144,
   "metadata": {},
   "outputs": [],
   "source": [
    "#parameters = {'solver':('liblinear', 'sag','saga')}\n",
    "def LReg(x_train, y_train, NUM):\n",
    "    train_data = x_train[:NUM]\n",
    "    X = np.reshape(train_data, (train_data.shape[0],-1))\n",
    "    Y = np.reshape(y_train[:NUM],(train_data.shape[0],-1))\n",
    "    clf = LogisticRegression(random_state=0, solver='lbfgs',multi_class='multinomial').fit(X, Y)\n",
    "    return clf"
   ]
  },
  {
   "cell_type": "code",
   "execution_count": 141,
   "metadata": {},
   "outputs": [],
   "source": [
    "x_test = np.reshape(valid_dataset, (valid_dataset.shape[0],-1))\n",
    "y_test = valid_labels"
   ]
  },
  {
   "cell_type": "code",
   "execution_count": 142,
   "metadata": {},
   "outputs": [
    {
     "name": "stderr",
     "output_type": "stream",
     "text": [
      "C:\\Users\\hyh6hhy\\Miniconda3\\envs\\stanfordnlp\\lib\\site-packages\\sklearn\\utils\\validation.py:724: DataConversionWarning: A column-vector y was passed when a 1d array was expected. Please change the shape of y to (n_samples, ), for example using ravel().\n",
      "  y = column_or_1d(y, warn=True)\n"
     ]
    },
    {
     "name": "stdout",
     "output_type": "stream",
     "text": [
      "f1 score is [0.49578415 0.36459175 0.19763514 0.04259439 0.47723292 0.69081365\n",
      " 0.3900688  0.36800895 0.58697318 0.5625    ]\n",
      "accuracy score is 0.4431\n",
      "precision score is [0.5661104  0.30597015 0.63586957 0.66666667 0.42445483 0.72707182\n",
      " 0.27827571 0.41751269 0.4757764  0.75      ]\n",
      "confusion matrix :\n",
      " [[0.441 0.143 0.005 0.003 0.025 0.014 0.05  0.066 0.241 0.012]\n",
      " [0.04  0.451 0.008 0.002 0.206 0.024 0.142 0.056 0.059 0.012]\n",
      " [0.024 0.019 0.117 0.001 0.083 0.033 0.632 0.027 0.058 0.006]\n",
      " [0.03  0.358 0.01  0.022 0.032 0.014 0.451 0.025 0.044 0.014]\n",
      " [0.041 0.018 0.01  0.    0.545 0.111 0.096 0.042 0.128 0.009]\n",
      " [0.026 0.013 0.005 0.003 0.074 0.658 0.019 0.098 0.083 0.021]\n",
      " [0.061 0.077 0.016 0.001 0.038 0.018 0.652 0.052 0.072 0.013]\n",
      " [0.06  0.208 0.006 0.    0.276 0.014 0.028 0.329 0.068 0.011]\n",
      " [0.031 0.039 0.005 0.001 0.005 0.011 0.056 0.034 0.766 0.052]\n",
      " [0.025 0.148 0.002 0.    0.    0.008 0.217 0.059 0.091 0.45 ]]\n"
     ]
    }
   ],
   "source": [
    "get_performance(LReg(train_dataset, train_labels, 50),x_test, y_test )"
   ]
  },
  {
   "cell_type": "code",
   "execution_count": 145,
   "metadata": {},
   "outputs": [
    {
     "name": "stderr",
     "output_type": "stream",
     "text": [
      "C:\\Users\\hyh6hhy\\Miniconda3\\envs\\stanfordnlp\\lib\\site-packages\\sklearn\\utils\\validation.py:724: DataConversionWarning: A column-vector y was passed when a 1d array was expected. Please change the shape of y to (n_samples, ), for example using ravel().\n",
      "  y = column_or_1d(y, warn=True)\n"
     ]
    },
    {
     "name": "stdout",
     "output_type": "stream",
     "text": [
      "f1 score is [0.74112198 0.54908136 0.75924076 0.6929982  0.56218058 0.65382716\n",
      " 0.5959261  0.5248     0.69985639 0.70310192]\n",
      "accuracy score is 0.647\n",
      "precision score is [0.76352068 0.57790055 0.75848303 0.86289121 0.48961424 0.64585366\n",
      " 0.56615662 0.56228571 0.67125803 0.69253152]\n",
      "confusion matrix :\n",
      " [[0.72  0.043 0.015 0.027 0.013 0.016 0.029 0.07  0.042 0.025]\n",
      " [0.029 0.523 0.015 0.012 0.152 0.07  0.078 0.04  0.044 0.037]\n",
      " [0.009 0.016 0.76  0.002 0.058 0.021 0.079 0.025 0.017 0.013]\n",
      " [0.019 0.126 0.013 0.579 0.016 0.025 0.126 0.025 0.03  0.041]\n",
      " [0.023 0.027 0.05  0.002 0.66  0.11  0.035 0.033 0.043 0.017]\n",
      " [0.009 0.019 0.013 0.009 0.143 0.662 0.017 0.069 0.034 0.025]\n",
      " [0.036 0.036 0.117 0.013 0.046 0.023 0.629 0.039 0.025 0.036]\n",
      " [0.057 0.074 0.01  0.016 0.234 0.038 0.017 0.492 0.042 0.02 ]\n",
      " [0.023 0.018 0.004 0.004 0.016 0.036 0.031 0.034 0.731 0.103]\n",
      " [0.018 0.023 0.005 0.007 0.01  0.024 0.07  0.048 0.081 0.714]]\n"
     ]
    },
    {
     "name": "stderr",
     "output_type": "stream",
     "text": [
      "C:\\Users\\hyh6hhy\\Miniconda3\\envs\\stanfordnlp\\lib\\site-packages\\sklearn\\linear_model\\logistic.py:947: ConvergenceWarning: lbfgs failed to converge. Increase the number of iterations.\n",
      "  \"of iterations.\", ConvergenceWarning)\n"
     ]
    }
   ],
   "source": [
    "get_performance(LReg(train_dataset, train_labels, 100),x_test, y_test )"
   ]
  },
  {
   "cell_type": "code",
   "execution_count": 146,
   "metadata": {},
   "outputs": [
    {
     "name": "stderr",
     "output_type": "stream",
     "text": [
      "C:\\Users\\hyh6hhy\\Miniconda3\\envs\\stanfordnlp\\lib\\site-packages\\sklearn\\utils\\validation.py:724: DataConversionWarning: A column-vector y was passed when a 1d array was expected. Please change the shape of y to (n_samples, ), for example using ravel().\n",
      "  y = column_or_1d(y, warn=True)\n"
     ]
    },
    {
     "name": "stdout",
     "output_type": "stream",
     "text": [
      "f1 score is [0.791      0.75646552 0.8003848  0.80930233 0.74454829 0.80732177\n",
      " 0.76630964 0.79055441 0.71574074 0.75890132]\n",
      "accuracy score is 0.7739\n",
      "precision score is [0.791      0.82009346 0.77108434 0.83743316 0.77429806 0.77881041\n",
      " 0.74667932 0.81223629 0.66637931 0.77225673]\n",
      "confusion matrix :\n",
      " [[0.791 0.024 0.01  0.015 0.018 0.019 0.02  0.047 0.039 0.017]\n",
      " [0.017 0.702 0.029 0.05  0.04  0.029 0.028 0.021 0.056 0.028]\n",
      " [0.007 0.007 0.832 0.011 0.042 0.014 0.043 0.013 0.022 0.009]\n",
      " [0.021 0.03  0.02  0.783 0.007 0.024 0.034 0.012 0.035 0.034]\n",
      " [0.015 0.018 0.06  0.011 0.717 0.056 0.035 0.019 0.057 0.012]\n",
      " [0.008 0.009 0.018 0.007 0.019 0.838 0.023 0.014 0.036 0.028]\n",
      " [0.021 0.022 0.054 0.009 0.02  0.025 0.787 0.01  0.033 0.019]\n",
      " [0.049 0.011 0.024 0.019 0.031 0.025 0.02  0.77  0.034 0.017]\n",
      " [0.02  0.018 0.026 0.013 0.03  0.019 0.02  0.025 0.773 0.056]\n",
      " [0.051 0.015 0.006 0.017 0.002 0.027 0.044 0.017 0.075 0.746]]\n"
     ]
    },
    {
     "name": "stderr",
     "output_type": "stream",
     "text": [
      "C:\\Users\\hyh6hhy\\Miniconda3\\envs\\stanfordnlp\\lib\\site-packages\\sklearn\\linear_model\\logistic.py:947: ConvergenceWarning: lbfgs failed to converge. Increase the number of iterations.\n",
      "  \"of iterations.\", ConvergenceWarning)\n"
     ]
    }
   ],
   "source": [
    "get_performance(LReg(train_dataset, train_labels, 500),x_test, y_test )"
   ]
  },
  {
   "cell_type": "code",
   "execution_count": 147,
   "metadata": {},
   "outputs": [
    {
     "name": "stderr",
     "output_type": "stream",
     "text": [
      "C:\\Users\\hyh6hhy\\Miniconda3\\envs\\stanfordnlp\\lib\\site-packages\\sklearn\\utils\\validation.py:724: DataConversionWarning: A column-vector y was passed when a 1d array was expected. Please change the shape of y to (n_samples, ), for example using ravel().\n",
      "  y = column_or_1d(y, warn=True)\n"
     ]
    },
    {
     "name": "stdout",
     "output_type": "stream",
     "text": [
      "f1 score is [0.80278884 0.7352637  0.78486056 0.7966186  0.72520967 0.79607843\n",
      " 0.73430437 0.78784704 0.71950641 0.7735369 ]\n",
      "accuracy score is 0.7654\n",
      "precision score is [0.79960317 0.76124197 0.78174603 0.79228487 0.71567673 0.78076923\n",
      " 0.73763875 0.82728273 0.68473351 0.78756477]\n",
      "confusion matrix :\n",
      " [[0.806 0.017 0.011 0.021 0.026 0.019 0.015 0.044 0.021 0.02 ]\n",
      " [0.013 0.711 0.017 0.069 0.037 0.033 0.035 0.021 0.042 0.022]\n",
      " [0.006 0.015 0.788 0.016 0.066 0.018 0.035 0.008 0.038 0.01 ]\n",
      " [0.019 0.033 0.014 0.801 0.013 0.024 0.038 0.013 0.019 0.026]\n",
      " [0.012 0.032 0.047 0.014 0.735 0.032 0.034 0.023 0.061 0.01 ]\n",
      " [0.005 0.018 0.017 0.013 0.045 0.812 0.03  0.008 0.03  0.022]\n",
      " [0.025 0.04  0.067 0.021 0.032 0.034 0.731 0.008 0.025 0.017]\n",
      " [0.056 0.014 0.019 0.017 0.028 0.028 0.015 0.752 0.048 0.023]\n",
      " [0.022 0.026 0.021 0.02  0.037 0.017 0.026 0.018 0.758 0.055]\n",
      " [0.044 0.028 0.007 0.019 0.008 0.023 0.032 0.014 0.065 0.76 ]]\n"
     ]
    },
    {
     "name": "stderr",
     "output_type": "stream",
     "text": [
      "C:\\Users\\hyh6hhy\\Miniconda3\\envs\\stanfordnlp\\lib\\site-packages\\sklearn\\linear_model\\logistic.py:947: ConvergenceWarning: lbfgs failed to converge. Increase the number of iterations.\n",
      "  \"of iterations.\", ConvergenceWarning)\n"
     ]
    }
   ],
   "source": [
    "get_performance(LReg(train_dataset, train_labels, 1000),x_test, y_test )"
   ]
  },
  {
   "cell_type": "code",
   "execution_count": null,
   "metadata": {},
   "outputs": [],
   "source": []
  }
 ],
 "metadata": {
  "@webio": {
   "lastCommId": null,
   "lastKernelId": null
  },
  "colab": {
   "default_view": {},
   "name": "1_notmnist.ipynb",
   "provenance": [],
   "toc_visible": true,
   "version": "0.3.2",
   "views": {}
  },
  "kernelspec": {
   "display_name": "Python 3",
   "language": "python",
   "name": "python3"
  },
  "language_info": {
   "codemirror_mode": {
    "name": "ipython",
    "version": 3
   },
   "file_extension": ".py",
   "mimetype": "text/x-python",
   "name": "python",
   "nbconvert_exporter": "python",
   "pygments_lexer": "ipython3",
   "version": "3.7.1"
  }
 },
 "nbformat": 4,
 "nbformat_minor": 1
}
