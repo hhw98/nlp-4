{
 "cells": [
  {
   "cell_type": "code",
   "execution_count": 130,
   "metadata": {},
   "outputs": [],
   "source": [
    "import requests\n",
    "from bs4 import BeautifulSoup\n",
    "import re\n",
    "from collections import defaultdict"
   ]
  },
  {
   "cell_type": "code",
   "execution_count": 131,
   "metadata": {},
   "outputs": [],
   "source": [
    "s = requests.Session()\n",
    "s.headers['User-Agent'] = 'Mozilla/5.0 (Windows NT 10.0; Win64; x64) AppleWebKit/537.36 (KHTML, like Gecko) Chrome/73.0.3683.86 Safari/537.36'\n",
    "url = 'http://www.bjsubway.com/e/action/ListInfo/?classid=39&ph=1'\n",
    "response = s.get(url)\n",
    "soup = BeautifulSoup(response.text, \"html.parser\")"
   ]
  },
  {
   "cell_type": "code",
   "execution_count": 132,
   "metadata": {},
   "outputs": [],
   "source": [
    "#soup"
   ]
  },
  {
   "cell_type": "code",
   "execution_count": null,
   "metadata": {},
   "outputs": [],
   "source": []
  },
  {
   "cell_type": "code",
   "execution_count": 172,
   "metadata": {},
   "outputs": [
    {
     "name": "stdout",
     "output_type": "stream",
     "text": [
      "21\n"
     ]
    }
   ],
   "source": [
    "\n",
    "station_dict = {}\n",
    "for row in soup.select('table'):\n",
    "    name = [x.text.strip() for x in row.find_all('td',{'colspan':['5','7','11','6','9']})][0].replace(\"（\",\"\").replace(\"）\",\"\")\n",
    "    #print(sta_name)\n",
    "    #name = sta_name\n",
    "    sta_list = [re.findall('[\\u4e00-\\u9fff]+',x.text) for x in row.find_all('tbody')][0]\n",
    "    \n",
    "    #print(sta_list[0::2])\n",
    "    if name[0] == '8':\n",
    "        name = name[:5]\n",
    "    elif name[:2] == '14':\n",
    "        name = name[:5]\n",
    "    elif name[:2] == '10':\n",
    "        name = name[:3]\n",
    "        sta_list = sta_list[0::2]\n",
    "        sta_list.append('巴沟')\n",
    "    elif name[:1] == '4':\n",
    "        name = name[:3]\n",
    "        sta_list = sta_list[0::2]\n",
    "    elif name[:1] == '2':\n",
    "        name = name[:3]\n",
    "        sta_list.append('西直门')\n",
    "        \n",
    "    elif name[:1] == '6':\n",
    "        name = name[:3]\n",
    "        sta_list = list(filter(lambda a: a != '暂缓开通', sta_list))\n",
    "    else:\n",
    "        name = name[:3]\n",
    "    station_dict[name] = sta_list\n",
    "#print(len(station_dict))"
   ]
  },
  {
   "cell_type": "code",
   "execution_count": null,
   "metadata": {},
   "outputs": [],
   "source": []
  },
  {
   "cell_type": "code",
   "execution_count": 229,
   "metadata": {},
   "outputs": [],
   "source": [
    "#station_dict.keys()"
   ]
  },
  {
   "cell_type": "code",
   "execution_count": 228,
   "metadata": {},
   "outputs": [],
   "source": [
    "#station_dict['4号线']"
   ]
  },
  {
   "cell_type": "code",
   "execution_count": 214,
   "metadata": {},
   "outputs": [],
   "source": [
    "stations_line = defaultdict(set)\n",
    "station_connection_info = defaultdict(list)\n",
    "for line,v in station_dict.items():\n",
    "    stations_line[v[0]].add(line)\n",
    "    station_connection_info[v[0]].append(v[1])\n",
    "    for i in range(1,len(v)-1):\n",
    "        stations_line[v[i]].add(line)\n",
    "        station_connection_info[v[i]].append(v[i-1])\n",
    "        station_connection_info[v[i]].append(v[i+1])\n",
    "    stations_line[v[len(v)-1]].add(line)\n",
    "    station_connection_info[v[len(v)-1]].append(v[len(v)-2])    \n",
    "    #print(k)\n",
    "    #print(v)"
   ]
  },
  {
   "cell_type": "code",
   "execution_count": 227,
   "metadata": {},
   "outputs": [],
   "source": [
    "#stations_line"
   ]
  },
  {
   "cell_type": "code",
   "execution_count": 216,
   "metadata": {},
   "outputs": [],
   "source": [
    "def search(start, destination, connection_grpah, sort_candidate):\n",
    "    \n",
    "    pathes = [[start]]\n",
    "    if start not in stations_line:\n",
    "        print('\"{}\" No corresponding station'.format(start))\n",
    "        return []\n",
    "    if destination not in stations_line:\n",
    "        print('\"{}\" No corresponding station'.format(destination))\n",
    "    visited = set()\n",
    "    while pathes:\n",
    "        path = pathes.pop(0)#需要和sort_candidate一致\n",
    "        #print(pathes)\n",
    "        froninter = path[-1]\n",
    "        \n",
    "        if froninter in visited:continue\n",
    "        successors = connection_grpah[froninter]\n",
    "        for s in successors:\n",
    "            \n",
    "            if s in path:continue\n",
    "            \n",
    "            \n",
    "            new_path = path+[s]\n",
    "            #pathes.append(new_path)\n",
    "            if new_path not in pathes:\n",
    "                pathes.insert(len(pathes),new_path)\n",
    "            if s == destination: return new_path\n",
    "        visited.add(froninter)#'set' object has no attribute 'append'\n",
    "        pathes = sort_candidate(pathes)\n",
    "        #print(pathes)\n",
    "    return pathes"
   ]
  },
  {
   "cell_type": "code",
   "execution_count": 270,
   "metadata": {},
   "outputs": [],
   "source": [
    "confirm_station = defaultdict(dict)\n",
    "def find_line(stations):\n",
    "    global stations_line\n",
    "    for i in range(len(stations)-1):\n",
    "        confirm_station[stations[i]] = \"\".join(list(stations_line[stations[i]].intersection(stations_line[stations[i+1]])))\n",
    "    confirm_station[stations[-1]] = confirm_station[stations[-2]]\n",
    "    count = 0\n",
    "    for i in range(1,len(stations)):\n",
    "        \n",
    "        if confirm_station[stations[i]] != confirm_station[stations[i-1]]:\n",
    "            count += 1\n",
    "            print(\"Change Station: {}\".format(stations[i]))\n",
    "            print(\"Change Line: {}\".format(\"-\".join([confirm_station[stations[i-1]],confirm_station[stations[i]]])))\n",
    "    print(\"换乘次数: {}\".format(count))\n",
    "    return [stations[i]+'-'+str(confirm_station[stations[i]]) for i in range(len(stations))]"
   ]
  },
  {
   "cell_type": "code",
   "execution_count": 218,
   "metadata": {},
   "outputs": [],
   "source": [
    "def pretty_print(cities):\n",
    "    print('🚇->'.join(cities))"
   ]
  },
  {
   "cell_type": "code",
   "execution_count": 219,
   "metadata": {},
   "outputs": [],
   "source": [
    "def transfer_line_as_less_possible(pathes):\n",
    "    global stations_line\n",
    "    if len(pathes) <= 1: return pathes\n",
    "    def find_line2(path):\n",
    "        confirm_station2 = set()\n",
    "        for i in range(len(path)-1):\n",
    "            confirm_station2.update(stations_line[path[i]].intersection(stations_line[path[i+1]]))\n",
    "\n",
    "        return len(confirm_station2)\n",
    "\n",
    "    return sorted(pathes, key=find_line2)"
   ]
  },
  {
   "cell_type": "code",
   "execution_count": 271,
   "metadata": {},
   "outputs": [
    {
     "name": "stdout",
     "output_type": "stream",
     "text": [
      "Change Station: 十里河\n",
      "Change Line: 10号-14号线东\n",
      "换乘次数: 1\n",
      "劲松-10号🚇->潘家园-10号🚇->十里河-14号线东🚇->方庄-14号线东🚇->蒲黄榆-14号线东🚇->景泰-14号线东🚇->永定门外-14号线东🚇->北京南站-14号线东\n"
     ]
    }
   ],
   "source": [
    " pretty_print(find_line(search('劲松', '北京南站', station_connection_info, sort_candidate = lambda n:n)))"
   ]
  },
  {
   "cell_type": "code",
   "execution_count": 272,
   "metadata": {},
   "outputs": [
    {
     "name": "stdout",
     "output_type": "stream",
     "text": [
      "Change Station: 呼家楼\n",
      "Change Line: 10号-6号线\n",
      "Change Station: 金台路\n",
      "Change Line: 6号线-14号线东\n",
      "换乘次数: 2\n",
      "劲松-10号🚇->双井-10号🚇->国贸-10号🚇->金台夕照-10号🚇->呼家楼-6号线🚇->金台路-14号线东🚇->朝阳公园-14号线东🚇->枣营-14号线东🚇->东风北桥-14号线东🚇->将台-14号线东\n"
     ]
    }
   ],
   "source": [
    " pretty_print(find_line(search('劲松', '将台', station_connection_info, sort_candidate = transfer_line_as_less_possible)))"
   ]
  },
  {
   "cell_type": "code",
   "execution_count": 273,
   "metadata": {},
   "outputs": [
    {
     "name": "stdout",
     "output_type": "stream",
     "text": [
      "Change Station: 国贸\n",
      "Change Line: 10号-1号线\n",
      "Change Station: 大望路\n",
      "Change Line: 1号线-14号线东\n",
      "换乘次数: 2\n",
      "劲松-10号🚇->双井-10号🚇->国贸-1号线🚇->大望路-14号线东🚇->金台路-14号线东🚇->朝阳公园-14号线东🚇->枣营-14号线东🚇->东风北桥-14号线东🚇->将台-14号线东\n"
     ]
    }
   ],
   "source": [
    " pretty_print(find_line(search('劲松', '将台', station_connection_info, sort_candidate = lambda n:n)))"
   ]
  },
  {
   "cell_type": "code",
   "execution_count": null,
   "metadata": {},
   "outputs": [],
   "source": []
  }
 ],
 "metadata": {
  "@webio": {
   "lastCommId": null,
   "lastKernelId": null
  },
  "kernelspec": {
   "display_name": "Python 3",
   "language": "python",
   "name": "python3"
  },
  "language_info": {
   "codemirror_mode": {
    "name": "ipython",
    "version": 3
   },
   "file_extension": ".py",
   "mimetype": "text/x-python",
   "name": "python",
   "nbconvert_exporter": "python",
   "pygments_lexer": "ipython3",
   "version": "3.6.8"
  }
 },
 "nbformat": 4,
 "nbformat_minor": 2
}
